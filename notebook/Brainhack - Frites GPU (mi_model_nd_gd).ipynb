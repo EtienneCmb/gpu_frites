{
 "cells": [
  {
   "cell_type": "code",
   "execution_count": 1,
   "metadata": {},
   "outputs": [],
   "source": [
    "import frites\n",
    "import time\n",
    "from   tqdm                import tqdm\n",
    "import cupy                               as cp\n",
    "import cupyx                              as cpx\n",
    "import numpy                              as np\n",
    "import matplotlib.pyplot                  as plt \n",
    "import scipy                              as sp\n",
    "from   cupyx.scipy.special import digamma as psi"
   ]
  },
  {
   "cell_type": "code",
   "execution_count": 2,
   "metadata": {},
   "outputs": [],
   "source": [
    "def nd_reshape(x, mvaxis=None, traxis=-1):\n",
    "    \"\"\"Multi-dimentional reshaping.\n",
    "    This function is used to be sure that an nd array has a correct shape\n",
    "    of (..., mvaxis, traxis).\n",
    "    Parameters\n",
    "    ----------\n",
    "    x : array_like\n",
    "        Multi-dimentional array\n",
    "    mvaxis : int | None\n",
    "        Spatial location of the axis to consider if multi-variate analysis\n",
    "        is needed\n",
    "    traxis : int | -1\n",
    "        Spatial location of the trial axis. By default the last axis is\n",
    "        considered\n",
    "    Returns\n",
    "    -------\n",
    "    x_rsh : array_like\n",
    "        The reshaped multi-dimentional array of shape (..., mvaxis, traxis)\n",
    "    \"\"\"\n",
    "    assert isinstance(traxis, int)\n",
    "    traxis = np.arange(x.ndim)[traxis]\n",
    "\n",
    "    # Create an empty mvaxis axis\n",
    "    if not isinstance(mvaxis, int):\n",
    "        x = x[..., np.newaxis]\n",
    "        mvaxis = -1\n",
    "    assert isinstance(mvaxis, int)\n",
    "    mvaxis = np.arange(x.ndim)[mvaxis]\n",
    "\n",
    "    # move the multi-variate and trial axis\n",
    "    x = np.moveaxis(x, (mvaxis, traxis), (-2, -1))\n",
    "\n",
    "    return x\n",
    "\n",
    "def mi_model_nd_gd(x, y, mvaxis=None, traxis=-1, biascorrect=True,\n",
    "                   demeaned=False, shape_checking=True):\n",
    "    \"\"\"Multi-dimentional MI between a Gaussian and a discret variables in bits.\n",
    "    This function is based on ANOVA style model comparison.\n",
    "    Parameters\n",
    "    ----------\n",
    "    x, y : array_like\n",
    "        Arrays to consider for computing the Mutual Information. The two input\n",
    "        variables x and y should have the same shape except on the mvaxis\n",
    "        (if needed).\n",
    "    mvaxis : int | None\n",
    "        Spatial location of the axis to consider if multi-variate analysis\n",
    "        is needed\n",
    "    traxis : int | -1\n",
    "        Spatial location of the trial axis. By default the last axis is\n",
    "        considered\n",
    "    biascorrect : bool | True\n",
    "        Specifies whether bias correction should be applied to the estimated MI\n",
    "    demeaned : bool | False\n",
    "        Specifies whether the input data already has zero mean (true if it has\n",
    "        been copula-normalized)\n",
    "    shape_checking : bool | True\n",
    "        Perform a reshape and check that x and y shapes are consistents. For\n",
    "        high performances and to avoid extensive memory usage, it's better to\n",
    "        already have x and y with a shape of (..., mvaxis, traxis) and to set\n",
    "        this parameter to False\n",
    "    Returns\n",
    "    -------\n",
    "    mi : array_like\n",
    "        The mutual information with the same shape as x and y, without the\n",
    "        mvaxis and traxis\n",
    "    \"\"\"\n",
    "    # Multi-dimentional shape checking\n",
    "    if shape_checking:\n",
    "        x = nd_reshape(x, mvaxis=mvaxis, traxis=traxis)\n",
    "    assert isinstance(y, np.ndarray) and (y.ndim == 1)\n",
    "    assert x.shape[-1] == len(y)\n",
    "\n",
    "    # x.shape (..., x_mvaxis, traxis)\n",
    "    nvarx, ntrl = x.shape[-2], x.shape[-1]\n",
    "    u_y = np.unique(y)\n",
    "    sh = x.shape[:-2]\n",
    "    zm_shape = list(sh) + [len(u_y)]\n",
    "\n",
    "    # joint variable along the mvaxis\n",
    "    if not demeaned:\n",
    "        x = x - x.mean(axis=-1, keepdims=True)\n",
    "\n",
    "    # class-conditional entropies\n",
    "    ntrl_y = np.zeros((len(u_y),), dtype=int)\n",
    "    hcond = np.zeros(zm_shape, dtype=float)\n",
    "    # c = .5 * (np.log(2. * np.pi) + 1)\n",
    "    for num, yi in enumerate(u_y):\n",
    "        idx = y == yi\n",
    "        xm = x[..., idx]\n",
    "        ntrl_y[num] = idx.sum()\n",
    "        xm = xm - xm.mean(axis=-1, keepdims=True)\n",
    "        cm = np.einsum('...ij, ...kj->...ik', xm, xm) / float(ntrl_y[num] - 1.)\n",
    "        chcm = np.linalg.cholesky(cm)\n",
    "        hcond[..., num] = np.log(np.einsum('...ii->...i', chcm)).sum(-1)\n",
    "\n",
    "    # class weights\n",
    "    w = ntrl_y / float(ntrl)\n",
    "\n",
    "    # unconditional entropy from unconditional Gaussian fit\n",
    "    cx = np.einsum('...ij, ...kj->...ik', x, x) / float(ntrl - 1.)\n",
    "    chc = np.linalg.cholesky(cx)\n",
    "    hunc = np.log(np.einsum('...ii->...i', chc)).sum(-1)\n",
    "\n",
    "    ln2 = np.log(2)\n",
    "    if biascorrect:\n",
    "        vars = np.arange(1, nvarx + 1)\n",
    "\n",
    "        psiterms = sp.special.psi((ntrl - vars).astype(float) / 2.) / 2.\n",
    "        dterm = (ln2 - np.log(float(ntrl - 1))) / 2.\n",
    "        hunc = hunc - nvarx * dterm - psiterms.sum()\n",
    "\n",
    "        dterm = (ln2 - np.log((ntrl_y - 1).astype(float))) / 2.\n",
    "        psiterms = np.zeros_like(ntrl_y, dtype=float)\n",
    "        for vi in vars:\n",
    "            idx = ntrl_y - vi\n",
    "            psiterms = psiterms + sp.special.psi(idx.astype(np.float) / 2.)\n",
    "        hcond = hcond - nvarx * dterm - (psiterms / 2.)\n",
    "\n",
    "    # MI in bits\n",
    "    i = (hunc - np.einsum('i, ...i', w, hcond)) / ln2\n",
    "    return i"
   ]
  },
  {
   "cell_type": "code",
   "execution_count": 3,
   "metadata": {},
   "outputs": [],
   "source": [
    "def nd_reshape_gpu(x, mvaxis=None, traxis=-1):\n",
    "    \"\"\"Multi-dimentional reshaping.\n",
    "    This function is used to be sure that an nd array has a correct shape\n",
    "    of (..., mvaxis, traxis).\n",
    "    Parameters\n",
    "    ----------\n",
    "    x : array_like\n",
    "        Multi-dimentional array\n",
    "    mvaxis : int | None\n",
    "        Spatial location of the axis to consider if multi-variate analysis\n",
    "        is needed\n",
    "    traxis : int | -1\n",
    "        Spatial location of the trial axis. By default the last axis is\n",
    "        considered\n",
    "    Returns\n",
    "    -------\n",
    "    x_rsh : array_like\n",
    "        The reshaped multi-dimentional array of shape (..., mvaxis, traxis)\n",
    "    \"\"\"\n",
    "    assert isinstance(traxis, int)\n",
    "    traxis = cp.arange(x.ndim)[traxis]\n",
    "\n",
    "    # Create an empty mvaxis axis\n",
    "    if not isinstance(mvaxis, int):\n",
    "        x = x[..., cp.newaxis]\n",
    "        mvaxis = -1\n",
    "    assert isinstance(mvaxis, int)\n",
    "    mvaxis = cp.arange(x.ndim)[mvaxis]\n",
    "\n",
    "    # move the multi-variate and trial axis\n",
    "    x = cp.moveaxis(x, (mvaxis, traxis), (-2, -1))\n",
    "\n",
    "    return x\n",
    "\n",
    "def mi_model_nd_gd_gpu(x, y, mvaxis=None, traxis=-1, biascorrect=True,\n",
    "                   demeaned=False, shape_checking=True):\n",
    "    \"\"\"Multi-dimentional MI between a Gaussian and a discret variables in bits.\n",
    "    This function is based on ANOVA style model comparison.\n",
    "    Parameters\n",
    "    ----------\n",
    "    x, y : array_like\n",
    "        Arrays to consider for computing the Mutual Information. The two input\n",
    "        variables x and y should have the same shape except on the mvaxis\n",
    "        (if needed).\n",
    "    mvaxis : int | None\n",
    "        Spatial location of the axis to consider if multi-variate analysis\n",
    "        is needed\n",
    "    traxis : int | -1\n",
    "        Spatial location of the trial axis. By default the last axis is\n",
    "        considered\n",
    "    biascorrect : bool | True\n",
    "        Specifies whether bias correction should be applied to the estimated MI\n",
    "    demeaned : bool | False\n",
    "        Specifies whether the input data already has zero mean (true if it has\n",
    "        been copula-normalized)\n",
    "    shape_checking : bool | True\n",
    "        Perform a reshape and check that x and y shapes are consistents. For\n",
    "        high performances and to avoid extensive memory usage, it's better to\n",
    "        already have x and y with a shape of (..., mvaxis, traxis) and to set\n",
    "        this parameter to False\n",
    "    Returns\n",
    "    -------\n",
    "    mi : array_like\n",
    "        The mutual information with the same shape as x and y, without the\n",
    "        mvaxis and traxis\n",
    "    \"\"\"\n",
    "    # Multi-dimentional shape checking\n",
    "    if shape_checking:\n",
    "        x = nd_reshape_gpu(x, mvaxis=mvaxis, traxis=traxis)\n",
    "    assert isinstance(y, cp.ndarray) and (y.ndim == 1)\n",
    "    assert x.shape[-1] == len(y)\n",
    "\n",
    "    # x.shape (..., x_mvaxis, traxis)\n",
    "    nvarx, ntrl = x.shape[-2], x.shape[-1]\n",
    "    u_y = cp.unique(y)\n",
    "    sh = x.shape[:-2]\n",
    "    zm_shape = list(sh) + [len(u_y)]\n",
    "\n",
    "    # joint variable along the mvaxis\n",
    "    if not demeaned:\n",
    "        x = x - x.mean(axis=-1, keepdims=True)\n",
    "\n",
    "    # class-conditional entropies\n",
    "    ntrl_y = cp.zeros((len(u_y),), dtype=int)\n",
    "    hcond = cp.zeros(zm_shape, dtype=float)\n",
    "    # c = .5 * (np.log(2. * np.pi) + 1)\n",
    "    for num, yi in enumerate(u_y):\n",
    "        idx = y == yi\n",
    "        xm = x[..., idx]\n",
    "        ntrl_y[num] = idx.sum()\n",
    "        xm = xm - xm.mean(axis=-1, keepdims=True)\n",
    "        cm = cp.einsum('...ij, ...kj->...ik', xm, xm) / float(ntrl_y[num] - 1.)\n",
    "        chcm = cp.linalg.cholesky(cm)\n",
    "        hcond[..., num] = cp.log(cp.einsum('...ii->...i', chcm)).sum(-1)\n",
    "\n",
    "    # class weights\n",
    "    w = ntrl_y / float(ntrl)\n",
    "\n",
    "    # unconditional entropy from unconditional Gaussian fit\n",
    "    cx = cp.einsum('...ij, ...kj->...ik', x, x) / float(ntrl - 1.)\n",
    "    chc = cp.linalg.cholesky(cx)\n",
    "    hunc = cp.log(cp.einsum('...ii->...i', chc)).sum(-1)\n",
    "\n",
    "    ln2 = cp.log(2)\n",
    "    if biascorrect:\n",
    "        vars = cp.arange(1, nvarx + 1)\n",
    "\n",
    "        psiterms = psi((ntrl - vars).astype(float) / 2.) / 2.\n",
    "        dterm = (ln2 - cp.log(float(ntrl - 1))) / 2.\n",
    "        hunc = hunc - nvarx * dterm - psiterms.sum()\n",
    "\n",
    "        dterm = (ln2 - cp.log((ntrl_y - 1).astype(float))) / 2.\n",
    "        psiterms = cp.zeros_like(ntrl_y, dtype=float)\n",
    "        for vi in vars:\n",
    "            idx = ntrl_y - vi\n",
    "            psiterms = psiterms + psi(idx.astype(cp.float) / 2.)\n",
    "        hcond = hcond - nvarx * dterm - (psiterms / 2.)\n",
    "\n",
    "    # MI in bits\n",
    "    i = (hunc - cp.einsum('i, ...i', w, hcond)) / ln2\n",
    "    # Clean GPU memory\n",
    "    cp._default_memory_pool.free_all_blocks()\n",
    "    return i"
   ]
  },
  {
   "cell_type": "code",
   "execution_count": 4,
   "metadata": {},
   "outputs": [],
   "source": [
    "# Generating coupled gaussian variables\n",
    "def return_coupled_normal(Trials = 1, Regions = 10, N = 1000, rho = 0.7):\n",
    "    x = np.random.normal(0, rho, size=(Trials, Regions, N))\n",
    "    y = np.random.randint(0, 10, size=(N))\n",
    "    return x,y"
   ]
  },
  {
   "cell_type": "code",
   "execution_count": 5,
   "metadata": {},
   "outputs": [],
   "source": [
    "x,y = return_coupled_normal(Trials = 10, Regions = 10, N = 1000, rho = 0.7)"
   ]
  },
  {
   "cell_type": "code",
   "execution_count": 6,
   "metadata": {},
   "outputs": [
    {
     "data": {
      "text/plain": [
       "array([-0.03657354, -0.00800223,  0.0179273 , -0.04231583,  0.0146169 ,\n",
       "        0.01223157,  0.03249995, -0.02575951,  0.02067099,  0.01322129])"
      ]
     },
     "execution_count": 6,
     "metadata": {},
     "output_type": "execute_result"
    }
   ],
   "source": [
    "mi_model_nd_gd(x, y, mvaxis=1, traxis=-1, biascorrect=True,\n",
    "               demeaned=False, shape_checking=False)"
   ]
  },
  {
   "cell_type": "code",
   "execution_count": 7,
   "metadata": {},
   "outputs": [
    {
     "data": {
      "text/plain": [
       "array([-0.03657354, -0.00800223,  0.0179273 , -0.04231583,  0.0146169 ,\n",
       "        0.01223157,  0.03249995, -0.02575951,  0.02067099,  0.01322129])"
      ]
     },
     "execution_count": 7,
     "metadata": {},
     "output_type": "execute_result"
    }
   ],
   "source": [
    "x_gpu, y_gpu = cp.array(x), cp.array(y)\n",
    "mi_model_nd_gd_gpu(x_gpu, y_gpu, mvaxis=1, traxis=-1, biascorrect=True,\n",
    "               demeaned=False, shape_checking=False)"
   ]
  },
  {
   "cell_type": "code",
   "execution_count": 12,
   "metadata": {},
   "outputs": [],
   "source": [
    "# Computing for different series length\n",
    "N_arr = np.linspace(1000, 100000, 20, dtype = int)\n",
    "exta  = np.zeros([2, len(N_arr)])\n",
    "exts  = np.zeros([2, len(N_arr)])"
   ]
  },
  {
   "cell_type": "code",
   "execution_count": 15,
   "metadata": {},
   "outputs": [
    {
     "name": "stderr",
     "output_type": "stream",
     "text": [
      "\r",
      "  0%|          | 0/20 [00:00<?, ?it/s]"
     ]
    },
    {
     "name": "stdout",
     "output_type": "stream",
     "text": [
      "5.46 ms ± 12.2 µs per loop (mean ± std. dev. of 7 runs, 100 loops each)\n"
     ]
    },
    {
     "name": "stderr",
     "output_type": "stream",
     "text": [
      "\r",
      "  5%|▌         | 1/20 [00:15<04:46, 15.09s/it]"
     ]
    },
    {
     "name": "stdout",
     "output_type": "stream",
     "text": [
      "12.9 ms ± 11.3 µs per loop (mean ± std. dev. of 7 runs, 100 loops each)\n",
      "25 ms ± 23.7 µs per loop (mean ± std. dev. of 7 runs, 10 loops each)\n"
     ]
    },
    {
     "name": "stderr",
     "output_type": "stream",
     "text": [
      "\r",
      " 10%|█         | 2/20 [00:28<04:22, 14.59s/it]"
     ]
    },
    {
     "name": "stdout",
     "output_type": "stream",
     "text": [
      "14 ms ± 8.59 µs per loop (mean ± std. dev. of 7 runs, 100 loops each)\n",
      "46.6 ms ± 464 µs per loop (mean ± std. dev. of 7 runs, 10 loops each)\n"
     ]
    },
    {
     "name": "stderr",
     "output_type": "stream",
     "text": [
      "\r",
      " 15%|█▌        | 3/20 [00:45<04:21, 15.41s/it]"
     ]
    },
    {
     "name": "stdout",
     "output_type": "stream",
     "text": [
      "16.6 ms ± 3.79 µs per loop (mean ± std. dev. of 7 runs, 100 loops each)\n",
      "69.8 ms ± 4.58 ms per loop (mean ± std. dev. of 7 runs, 10 loops each)\n"
     ]
    },
    {
     "name": "stderr",
     "output_type": "stream",
     "text": [
      "\r",
      " 20%|██        | 4/20 [01:06<04:32, 17.02s/it]"
     ]
    },
    {
     "name": "stdout",
     "output_type": "stream",
     "text": [
      "18.6 ms ± 14.3 µs per loop (mean ± std. dev. of 7 runs, 100 loops each)\n",
      "93.3 ms ± 5.57 ms per loop (mean ± std. dev. of 7 runs, 10 loops each)\n"
     ]
    },
    {
     "name": "stderr",
     "output_type": "stream",
     "text": [
      "\r",
      " 25%|██▌       | 5/20 [01:16<03:41, 14.79s/it]"
     ]
    },
    {
     "name": "stdout",
     "output_type": "stream",
     "text": [
      "23.5 ms ± 87.6 µs per loop (mean ± std. dev. of 7 runs, 10 loops each)\n",
      "114 ms ± 1.23 ms per loop (mean ± std. dev. of 7 runs, 10 loops each)\n"
     ]
    },
    {
     "name": "stderr",
     "output_type": "stream",
     "text": [
      "\r",
      " 30%|███       | 6/20 [01:27<03:13, 13.82s/it]"
     ]
    },
    {
     "name": "stdout",
     "output_type": "stream",
     "text": [
      "26.9 ms ± 14.1 µs per loop (mean ± std. dev. of 7 runs, 10 loops each)\n",
      "143 ms ± 643 µs per loop (mean ± std. dev. of 7 runs, 10 loops each)\n"
     ]
    },
    {
     "name": "stderr",
     "output_type": "stream",
     "text": [
      "\r",
      " 35%|███▌      | 7/20 [01:41<03:00, 13.92s/it]"
     ]
    },
    {
     "name": "stdout",
     "output_type": "stream",
     "text": [
      "30.3 ms ± 17 µs per loop (mean ± std. dev. of 7 runs, 10 loops each)\n",
      "166 ms ± 134 µs per loop (mean ± std. dev. of 7 runs, 10 loops each)\n"
     ]
    },
    {
     "name": "stderr",
     "output_type": "stream",
     "text": [
      "\r",
      " 40%|████      | 8/20 [01:58<02:55, 14.61s/it]"
     ]
    },
    {
     "name": "stdout",
     "output_type": "stream",
     "text": [
      "32.3 ms ± 45.5 µs per loop (mean ± std. dev. of 7 runs, 10 loops each)\n",
      "191 ms ± 359 µs per loop (mean ± std. dev. of 7 runs, 10 loops each)\n"
     ]
    },
    {
     "name": "stderr",
     "output_type": "stream",
     "text": [
      "\r",
      " 45%|████▌     | 9/20 [02:16<02:53, 15.80s/it]"
     ]
    },
    {
     "name": "stdout",
     "output_type": "stream",
     "text": [
      "35.6 ms ± 61.3 µs per loop (mean ± std. dev. of 7 runs, 10 loops each)\n",
      "221 ms ± 224 µs per loop (mean ± std. dev. of 7 runs, 1 loop each)\n"
     ]
    },
    {
     "name": "stderr",
     "output_type": "stream",
     "text": [
      "\r",
      " 50%|█████     | 10/20 [02:21<02:06, 12.61s/it]"
     ]
    },
    {
     "name": "stdout",
     "output_type": "stream",
     "text": [
      "38.9 ms ± 12 µs per loop (mean ± std. dev. of 7 runs, 10 loops each)\n",
      "247 ms ± 234 µs per loop (mean ± std. dev. of 7 runs, 1 loop each)\n"
     ]
    },
    {
     "name": "stderr",
     "output_type": "stream",
     "text": [
      "\r",
      " 55%|█████▌    | 11/20 [02:27<01:34, 10.53s/it]"
     ]
    },
    {
     "name": "stdout",
     "output_type": "stream",
     "text": [
      "42.2 ms ± 8.69 µs per loop (mean ± std. dev. of 7 runs, 10 loops each)\n",
      "273 ms ± 279 µs per loop (mean ± std. dev. of 7 runs, 1 loop each)\n"
     ]
    },
    {
     "name": "stderr",
     "output_type": "stream",
     "text": [
      "\r",
      " 60%|██████    | 12/20 [02:33<01:13,  9.23s/it]"
     ]
    },
    {
     "name": "stdout",
     "output_type": "stream",
     "text": [
      "45.6 ms ± 86.2 µs per loop (mean ± std. dev. of 7 runs, 10 loops each)\n",
      "299 ms ± 703 µs per loop (mean ± std. dev. of 7 runs, 1 loop each)\n"
     ]
    },
    {
     "name": "stderr",
     "output_type": "stream",
     "text": [
      "\r",
      " 65%|██████▌   | 13/20 [02:40<00:59,  8.47s/it]"
     ]
    },
    {
     "name": "stdout",
     "output_type": "stream",
     "text": [
      "48.8 ms ± 12.4 µs per loop (mean ± std. dev. of 7 runs, 10 loops each)\n",
      "322 ms ± 219 µs per loop (mean ± std. dev. of 7 runs, 1 loop each)\n"
     ]
    },
    {
     "name": "stderr",
     "output_type": "stream",
     "text": [
      "\r",
      " 70%|███████   | 14/20 [02:47<00:48,  8.07s/it]"
     ]
    },
    {
     "name": "stdout",
     "output_type": "stream",
     "text": [
      "52 ms ± 14.4 µs per loop (mean ± std. dev. of 7 runs, 10 loops each)\n",
      "351 ms ± 1.13 ms per loop (mean ± std. dev. of 7 runs, 1 loop each)\n"
     ]
    },
    {
     "name": "stderr",
     "output_type": "stream",
     "text": [
      "\r",
      " 75%|███████▌  | 15/20 [02:55<00:39,  7.96s/it]"
     ]
    },
    {
     "name": "stdout",
     "output_type": "stream",
     "text": [
      "55.5 ms ± 11.3 µs per loop (mean ± std. dev. of 7 runs, 10 loops each)\n",
      "369 ms ± 220 µs per loop (mean ± std. dev. of 7 runs, 1 loop each)\n"
     ]
    },
    {
     "name": "stderr",
     "output_type": "stream",
     "text": [
      "\r",
      " 80%|████████  | 16/20 [03:03<00:32,  8.08s/it]"
     ]
    },
    {
     "name": "stdout",
     "output_type": "stream",
     "text": [
      "61.8 ms ± 19.6 µs per loop (mean ± std. dev. of 7 runs, 10 loops each)\n",
      "397 ms ± 318 µs per loop (mean ± std. dev. of 7 runs, 1 loop each)\n"
     ]
    },
    {
     "name": "stderr",
     "output_type": "stream",
     "text": [
      "\r",
      " 85%|████████▌ | 17/20 [03:12<00:24,  8.25s/it]"
     ]
    },
    {
     "name": "stdout",
     "output_type": "stream",
     "text": [
      "62 ms ± 27.6 µs per loop (mean ± std. dev. of 7 runs, 10 loops each)\n",
      "421 ms ± 296 µs per loop (mean ± std. dev. of 7 runs, 1 loop each)\n"
     ]
    },
    {
     "name": "stderr",
     "output_type": "stream",
     "text": [
      "\r",
      " 90%|█████████ | 18/20 [03:21<00:17,  8.52s/it]"
     ]
    },
    {
     "name": "stdout",
     "output_type": "stream",
     "text": [
      "65.4 ms ± 33.5 µs per loop (mean ± std. dev. of 7 runs, 10 loops each)\n",
      "448 ms ± 277 µs per loop (mean ± std. dev. of 7 runs, 1 loop each)\n"
     ]
    },
    {
     "name": "stderr",
     "output_type": "stream",
     "text": [
      "\r",
      " 95%|█████████▌| 19/20 [03:31<00:08,  8.86s/it]"
     ]
    },
    {
     "name": "stdout",
     "output_type": "stream",
     "text": [
      "68.7 ms ± 12.1 µs per loop (mean ± std. dev. of 7 runs, 10 loops each)\n",
      "469 ms ± 1.63 ms per loop (mean ± std. dev. of 7 runs, 1 loop each)\n"
     ]
    },
    {
     "name": "stderr",
     "output_type": "stream",
     "text": [
      "100%|██████████| 20/20 [03:41<00:00, 11.07s/it]"
     ]
    },
    {
     "name": "stdout",
     "output_type": "stream",
     "text": [
      "75.7 ms ± 9.26 µs per loop (mean ± std. dev. of 7 runs, 10 loops each)\n"
     ]
    },
    {
     "name": "stderr",
     "output_type": "stream",
     "text": [
      "\n"
     ]
    }
   ],
   "source": [
    "for i in tqdm( range(N_arr.shape[-1]) ):\n",
    "    x, y  = return_coupled_normal(Trials = 10, Regions = 10, N = N_arr[i], rho = 0.7)\n",
    "    # CPU\n",
    "    #start = time.time()\n",
    "    aux = %timeit -o mi_model_nd_gd(x,y, mvaxis=1, traxis=-1, biascorrect=True, demeaned=False, shape_checking=False)\n",
    "    #end   = time.time()\n",
    "    exta[0,i] = aux.average\n",
    "    exts[0,i] = aux.stdev\n",
    "    # GPU \n",
    "    x_gpu, y_gpu = cp.array(x), cp.array(y)\n",
    "    #start = time.time()\n",
    "    aux = %timeit -o mi_model_nd_gd_gpu(x_gpu,y_gpu, mvaxis=1, traxis=-1, biascorrect=True, demeaned=False, shape_checking=False)\n",
    "    #end   = time.time()\n",
    "    exta[1,i] = aux.average#end-start\n",
    "    exts[1,i] = aux.stdev"
   ]
  },
  {
   "cell_type": "code",
   "execution_count": 16,
   "metadata": {},
   "outputs": [
    {
     "data": {
      "image/png": "[encoded data removed]",
      "text/plain": [
       "<Figure size 504x432 with 2 Axes>"
      ]
     },
     "metadata": {
      "needs_background": "light"
     },
     "output_type": "display_data"
    }
   ],
   "source": [
    "plt.figure(figsize=(7,6))\n",
    "plt.subplot2grid((3,2), (0,0), rowspan = 2, colspan = 2)\n",
    "plt.plot(N_arr, exta[0], 'sb', label = 'CPU')\n",
    "plt.fill_between(N_arr, exta[0]-2*exts[0], exta[0]+2*exts[0], color = 'b', alpha = .2)\n",
    "plt.plot(N_arr, exta[1], 'sr', label = 'GPU')\n",
    "plt.fill_between(N_arr, exta[1]-2*exts[1], exta[1]+2*exts[1], color = 'r', alpha = .2)\n",
    "plt.xticks([])\n",
    "plt.title('FRITES - mi_model_nd_gd')\n",
    "plt.ylabel('Exc. time [s]')\n",
    "plt.legend()\n",
    "plt.subplot2grid((3,2), (2,0), rowspan = 1, colspan = 2)\n",
    "plt.plot(N_arr, exta[0]/exta[1], 'g--', lw = 3)\n",
    "plt.ylabel(r'CPU/GPU')\n",
    "plt.xlabel('Series length')\n",
    "plt.tight_layout()\n",
    "plt.savefig('mi_model_nd_gd.pdf', dpi = 600)"
   ]
  }
 ],
 "metadata": {
  "kernelspec": {
   "display_name": "Python 3",
   "language": "python",
   "name": "python3"
  },
  "language_info": {
   "codemirror_mode": {
    "name": "ipython",
    "version": 3
   },
   "file_extension": ".py",
   "mimetype": "text/x-python",
   "name": "python",
   "nbconvert_exporter": "python",
   "pygments_lexer": "ipython3",
   "version": "3.6.8"
  }
 },
 "nbformat": 4,
 "nbformat_minor": 2
}
