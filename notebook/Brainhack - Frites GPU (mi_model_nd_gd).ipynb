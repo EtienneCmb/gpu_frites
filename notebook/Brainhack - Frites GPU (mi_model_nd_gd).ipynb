{
 "cells": [
  {
   "cell_type": "code",
   "execution_count": 11,
   "metadata": {},
   "outputs": [],
   "source": [
    "import frites\n",
    "import time\n",
    "from   tqdm                import tqdm\n",
    "import cupy                               as cp\n",
    "import cupyx                              as cpx\n",
    "import numpy                              as np\n",
    "import matplotlib.pyplot                  as plt \n",
    "import scipy                              as sp\n",
    "from   cupyx.scipy.special import digamma as psi\n",
    "from   frites.io           import set_log_level, logger"
   ]
  },
  {
   "cell_type": "code",
   "execution_count": 2,
   "metadata": {},
   "outputs": [],
   "source": [
    "def nd_reshape(x, mvaxis=None, traxis=-1):\n",
    "    \"\"\"Multi-dimentional reshaping.\n",
    "    This function is used to be sure that an nd array has a correct shape\n",
    "    of (..., mvaxis, traxis).\n",
    "    Parameters\n",
    "    ----------\n",
    "    x : array_like\n",
    "        Multi-dimentional array\n",
    "    mvaxis : int | None\n",
    "        Spatial location of the axis to consider if multi-variate analysis\n",
    "        is needed\n",
    "    traxis : int | -1\n",
    "        Spatial location of the trial axis. By default the last axis is\n",
    "        considered\n",
    "    Returns\n",
    "    -------\n",
    "    x_rsh : array_like\n",
    "        The reshaped multi-dimentional array of shape (..., mvaxis, traxis)\n",
    "    \"\"\"\n",
    "    assert isinstance(traxis, int)\n",
    "    traxis = np.arange(x.ndim)[traxis]\n",
    "\n",
    "    # Create an empty mvaxis axis\n",
    "    if not isinstance(mvaxis, int):\n",
    "        x = x[..., np.newaxis]\n",
    "        mvaxis = -1\n",
    "    assert isinstance(mvaxis, int)\n",
    "    mvaxis = np.arange(x.ndim)[mvaxis]\n",
    "\n",
    "    # move the multi-variate and trial axis\n",
    "    x = np.moveaxis(x, (mvaxis, traxis), (-2, -1))\n",
    "\n",
    "    return x\n",
    "\n",
    "def mi_model_nd_gd(x, y, mvaxis=None, traxis=-1, biascorrect=True,\n",
    "                   demeaned=False, shape_checking=True):\n",
    "    \"\"\"Multi-dimentional MI between a Gaussian and a discret variables in bits.\n",
    "    This function is based on ANOVA style model comparison.\n",
    "    Parameters\n",
    "    ----------\n",
    "    x, y : array_like\n",
    "        Arrays to consider for computing the Mutual Information. The two input\n",
    "        variables x and y should have the same shape except on the mvaxis\n",
    "        (if needed).\n",
    "    mvaxis : int | None\n",
    "        Spatial location of the axis to consider if multi-variate analysis\n",
    "        is needed\n",
    "    traxis : int | -1\n",
    "        Spatial location of the trial axis. By default the last axis is\n",
    "        considered\n",
    "    biascorrect : bool | True\n",
    "        Specifies whether bias correction should be applied to the estimated MI\n",
    "    demeaned : bool | False\n",
    "        Specifies whether the input data already has zero mean (true if it has\n",
    "        been copula-normalized)\n",
    "    shape_checking : bool | True\n",
    "        Perform a reshape and check that x and y shapes are consistents. For\n",
    "        high performances and to avoid extensive memory usage, it's better to\n",
    "        already have x and y with a shape of (..., mvaxis, traxis) and to set\n",
    "        this parameter to False\n",
    "    Returns\n",
    "    -------\n",
    "    mi : array_like\n",
    "        The mutual information with the same shape as x and y, without the\n",
    "        mvaxis and traxis\n",
    "    \"\"\"\n",
    "    # Multi-dimentional shape checking\n",
    "    if shape_checking:\n",
    "        x = nd_reshape(x, mvaxis=mvaxis, traxis=traxis)\n",
    "    assert isinstance(y, np.ndarray) and (y.ndim == 1)\n",
    "    assert x.shape[-1] == len(y)\n",
    "\n",
    "    # x.shape (..., x_mvaxis, traxis)\n",
    "    nvarx, ntrl = x.shape[-2], x.shape[-1]\n",
    "    u_y = np.unique(y)\n",
    "    sh = x.shape[:-2]\n",
    "    zm_shape = list(sh) + [len(u_y)]\n",
    "\n",
    "    # joint variable along the mvaxis\n",
    "    if not demeaned:\n",
    "        x = x - x.mean(axis=-1, keepdims=True)\n",
    "\n",
    "    # class-conditional entropies\n",
    "    ntrl_y = np.zeros((len(u_y),), dtype=int)\n",
    "    hcond = np.zeros(zm_shape, dtype=float)\n",
    "    # c = .5 * (np.log(2. * np.pi) + 1)\n",
    "    for num, yi in enumerate(u_y):\n",
    "        idx = y == yi\n",
    "        xm = x[..., idx]\n",
    "        ntrl_y[num] = idx.sum()\n",
    "        xm = xm - xm.mean(axis=-1, keepdims=True)\n",
    "        cm = np.einsum('...ij, ...kj->...ik', xm, xm) / float(ntrl_y[num] - 1.)\n",
    "        chcm = np.linalg.cholesky(cm)\n",
    "        hcond[..., num] = np.log(np.einsum('...ii->...i', chcm)).sum(-1)\n",
    "\n",
    "    # class weights\n",
    "    w = ntrl_y / float(ntrl)\n",
    "\n",
    "    # unconditional entropy from unconditional Gaussian fit\n",
    "    cx = np.einsum('...ij, ...kj->...ik', x, x) / float(ntrl - 1.)\n",
    "    chc = np.linalg.cholesky(cx)\n",
    "    hunc = np.log(np.einsum('...ii->...i', chc)).sum(-1)\n",
    "\n",
    "    ln2 = np.log(2)\n",
    "    if biascorrect:\n",
    "        vars = np.arange(1, nvarx + 1)\n",
    "\n",
    "        psiterms = sp.special.psi((ntrl - vars).astype(float) / 2.) / 2.\n",
    "        dterm = (ln2 - np.log(float(ntrl - 1))) / 2.\n",
    "        hunc = hunc - nvarx * dterm - psiterms.sum()\n",
    "\n",
    "        dterm = (ln2 - np.log((ntrl_y - 1).astype(float))) / 2.\n",
    "        psiterms = np.zeros_like(ntrl_y, dtype=float)\n",
    "        for vi in vars:\n",
    "            idx = ntrl_y - vi\n",
    "            psiterms = psiterms + sp.special.psi(idx.astype(np.float) / 2.)\n",
    "        hcond = hcond - nvarx * dterm - (psiterms / 2.)\n",
    "\n",
    "    # MI in bits\n",
    "    i = (hunc - np.einsum('i, ...i', w, hcond)) / ln2\n",
    "    return i"
   ]
  },
  {
   "cell_type": "code",
   "execution_count": 3,
   "metadata": {},
   "outputs": [],
   "source": [
    "def nd_reshape_gpu(x, mvaxis=None, traxis=-1):\n",
    "    \"\"\"Multi-dimentional reshaping.\n",
    "    This function is used to be sure that an nd array has a correct shape\n",
    "    of (..., mvaxis, traxis).\n",
    "    Parameters\n",
    "    ----------\n",
    "    x : array_like\n",
    "        Multi-dimentional array\n",
    "    mvaxis : int | None\n",
    "        Spatial location of the axis to consider if multi-variate analysis\n",
    "        is needed\n",
    "    traxis : int | -1\n",
    "        Spatial location of the trial axis. By default the last axis is\n",
    "        considered\n",
    "    Returns\n",
    "    -------\n",
    "    x_rsh : array_like\n",
    "        The reshaped multi-dimentional array of shape (..., mvaxis, traxis)\n",
    "    \"\"\"\n",
    "    assert isinstance(traxis, int)\n",
    "    traxis = cp.arange(x.ndim)[traxis]\n",
    "\n",
    "    # Create an empty mvaxis axis\n",
    "    if not isinstance(mvaxis, int):\n",
    "        x = x[..., cp.newaxis]\n",
    "        mvaxis = -1\n",
    "    assert isinstance(mvaxis, int)\n",
    "    mvaxis = cp.arange(x.ndim)[mvaxis]\n",
    "\n",
    "    # move the multi-variate and trial axis\n",
    "    x = cp.moveaxis(x, (mvaxis, traxis), (-2, -1))\n",
    "\n",
    "    return x\n",
    "\n",
    "def mi_model_nd_gd_gpu(x, y, mvaxis=None, traxis=-1, biascorrect=True,\n",
    "                   demeaned=False, shape_checking=True):\n",
    "    \"\"\"Multi-dimentional MI between a Gaussian and a discret variables in bits.\n",
    "    This function is based on ANOVA style model comparison.\n",
    "    Parameters\n",
    "    ----------\n",
    "    x, y : array_like\n",
    "        Arrays to consider for computing the Mutual Information. The two input\n",
    "        variables x and y should have the same shape except on the mvaxis\n",
    "        (if needed).\n",
    "    mvaxis : int | None\n",
    "        Spatial location of the axis to consider if multi-variate analysis\n",
    "        is needed\n",
    "    traxis : int | -1\n",
    "        Spatial location of the trial axis. By default the last axis is\n",
    "        considered\n",
    "    biascorrect : bool | True\n",
    "        Specifies whether bias correction should be applied to the estimated MI\n",
    "    demeaned : bool | False\n",
    "        Specifies whether the input data already has zero mean (true if it has\n",
    "        been copula-normalized)\n",
    "    shape_checking : bool | True\n",
    "        Perform a reshape and check that x and y shapes are consistents. For\n",
    "        high performances and to avoid extensive memory usage, it's better to\n",
    "        already have x and y with a shape of (..., mvaxis, traxis) and to set\n",
    "        this parameter to False\n",
    "    Returns\n",
    "    -------\n",
    "    mi : array_like\n",
    "        The mutual information with the same shape as x and y, without the\n",
    "        mvaxis and traxis\n",
    "    \"\"\"\n",
    "    # Multi-dimentional shape checking\n",
    "    if shape_checking:\n",
    "        x = nd_reshape_gpu(x, mvaxis=mvaxis, traxis=traxis)\n",
    "    assert isinstance(y, cp.ndarray) and (y.ndim == 1)\n",
    "    assert x.shape[-1] == len(y)\n",
    "\n",
    "    # x.shape (..., x_mvaxis, traxis)\n",
    "    nvarx, ntrl = x.shape[-2], x.shape[-1]\n",
    "    u_y = cp.unique(y)\n",
    "    sh = x.shape[:-2]\n",
    "    zm_shape = list(sh) + [len(u_y)]\n",
    "\n",
    "    # joint variable along the mvaxis\n",
    "    if not demeaned:\n",
    "        x = x - x.mean(axis=-1, keepdims=True)\n",
    "\n",
    "    # class-conditional entropies\n",
    "    ntrl_y = cp.zeros((len(u_y),), dtype=int)\n",
    "    hcond = cp.zeros(zm_shape, dtype=float)\n",
    "    # c = .5 * (np.log(2. * np.pi) + 1)\n",
    "    for num, yi in enumerate(u_y):\n",
    "        idx = y == yi\n",
    "        xm = x[..., idx]\n",
    "        ntrl_y[num] = idx.sum()\n",
    "        xm = xm - xm.mean(axis=-1, keepdims=True)\n",
    "        cm = cp.einsum('...ij, ...kj->...ik', xm, xm) / float(ntrl_y[num] - 1.)\n",
    "        chcm = cp.linalg.cholesky(cm)\n",
    "        hcond[..., num] = cp.log(cp.einsum('...ii->...i', chcm)).sum(-1)\n",
    "\n",
    "    # class weights\n",
    "    w = ntrl_y / float(ntrl)\n",
    "\n",
    "    # unconditional entropy from unconditional Gaussian fit\n",
    "    cx = cp.einsum('...ij, ...kj->...ik', x, x) / float(ntrl - 1.)\n",
    "    chc = cp.linalg.cholesky(cx)\n",
    "    hunc = cp.log(cp.einsum('...ii->...i', chc)).sum(-1)\n",
    "\n",
    "    ln2 = cp.log(2)\n",
    "    if biascorrect:\n",
    "        vars = cp.arange(1, nvarx + 1)\n",
    "\n",
    "        psiterms = psi((ntrl - vars).astype(float) / 2.) / 2.\n",
    "        dterm = (ln2 - cp.log(float(ntrl - 1))) / 2.\n",
    "        hunc = hunc - nvarx * dterm - psiterms.sum()\n",
    "\n",
    "        dterm = (ln2 - cp.log((ntrl_y - 1).astype(float))) / 2.\n",
    "        psiterms = cp.zeros_like(ntrl_y, dtype=float)\n",
    "        for vi in vars:\n",
    "            idx = ntrl_y - vi\n",
    "            psiterms = psiterms + psi(idx.astype(cp.float) / 2.)\n",
    "        hcond = hcond - nvarx * dterm - (psiterms / 2.)\n",
    "\n",
    "    # MI in bits\n",
    "    i = (hunc - cp.einsum('i, ...i', w, hcond)) / ln2\n",
    "    # Clean GPU memory\n",
    "    cp._default_memory_pool.free_all_blocks()\n",
    "    return i"
   ]
  },
  {
   "cell_type": "code",
   "execution_count": 8,
   "metadata": {},
   "outputs": [],
   "source": [
    "# Generating coupled gaussian variables\n",
    "def return_coupled_normal(Trials = 1, Regions = 10, N = 1000, rho = 0.7):\n",
    "    x = np.random.normal(0, rho, size=(Trials, Regions, N))\n",
    "    y = np.random.randint(0, 10, size=(N))\n",
    "    return x,y"
   ]
  },
  {
   "cell_type": "code",
   "execution_count": 5,
   "metadata": {},
   "outputs": [],
   "source": [
    "x,y = return_coupled_normal(Trials = 10, Regions = 10, N = 1000, rho = 0.7)"
   ]
  },
  {
   "cell_type": "code",
   "execution_count": 6,
   "metadata": {},
   "outputs": [
    {
     "data": {
      "text/plain": [
       "array([-0.03657354, -0.00800223,  0.0179273 , -0.04231583,  0.0146169 ,\n",
       "        0.01223157,  0.03249995, -0.02575951,  0.02067099,  0.01322129])"
      ]
     },
     "execution_count": 6,
     "metadata": {},
     "output_type": "execute_result"
    }
   ],
   "source": [
    "mi_model_nd_gd(x, y, mvaxis=1, traxis=-1, biascorrect=True,\n",
    "               demeaned=False, shape_checking=False)"
   ]
  },
  {
   "cell_type": "code",
   "execution_count": 7,
   "metadata": {},
   "outputs": [
    {
     "data": {
      "text/plain": [
       "array([-0.03657354, -0.00800223,  0.0179273 , -0.04231583,  0.0146169 ,\n",
       "        0.01223157,  0.03249995, -0.02575951,  0.02067099,  0.01322129])"
      ]
     },
     "execution_count": 7,
     "metadata": {},
     "output_type": "execute_result"
    }
   ],
   "source": [
    "x_gpu, y_gpu = cp.array(x), cp.array(y)\n",
    "mi_model_nd_gd_gpu(x_gpu, y_gpu, mvaxis=1, traxis=-1, biascorrect=True,\n",
    "               demeaned=False, shape_checking=False)"
   ]
  },
  {
   "cell_type": "code",
   "execution_count": 7,
   "metadata": {},
   "outputs": [],
   "source": [
    "# Computing for different series length\n",
    "N_arr = np.linspace(1000, 100000, 20, dtype = int)\n",
    "exta  = np.zeros([2, len(N_arr)])\n",
    "exts  = np.zeros([2, len(N_arr)])"
   ]
  },
  {
   "cell_type": "code",
   "execution_count": 15,
   "metadata": {},
   "outputs": [
    {
     "name": "stderr",
     "output_type": "stream",
     "text": [
      "\r",
      "  0%|          | 0/20 [00:00<?, ?it/s]"
     ]
    },
    {
     "name": "stdout",
     "output_type": "stream",
     "text": [
      "5.46 ms ± 12.2 µs per loop (mean ± std. dev. of 7 runs, 100 loops each)\n"
     ]
    },
    {
     "name": "stderr",
     "output_type": "stream",
     "text": [
      "\r",
      "  5%|▌         | 1/20 [00:15<04:46, 15.09s/it]"
     ]
    },
    {
     "name": "stdout",
     "output_type": "stream",
     "text": [
      "12.9 ms ± 11.3 µs per loop (mean ± std. dev. of 7 runs, 100 loops each)\n",
      "25 ms ± 23.7 µs per loop (mean ± std. dev. of 7 runs, 10 loops each)\n"
     ]
    },
    {
     "name": "stderr",
     "output_type": "stream",
     "text": [
      "\r",
      " 10%|█         | 2/20 [00:28<04:22, 14.59s/it]"
     ]
    },
    {
     "name": "stdout",
     "output_type": "stream",
     "text": [
      "14 ms ± 8.59 µs per loop (mean ± std. dev. of 7 runs, 100 loops each)\n",
      "46.6 ms ± 464 µs per loop (mean ± std. dev. of 7 runs, 10 loops each)\n"
     ]
    },
    {
     "name": "stderr",
     "output_type": "stream",
     "text": [
      "\r",
      " 15%|█▌        | 3/20 [00:45<04:21, 15.41s/it]"
     ]
    },
    {
     "name": "stdout",
     "output_type": "stream",
     "text": [
      "16.6 ms ± 3.79 µs per loop (mean ± std. dev. of 7 runs, 100 loops each)\n",
      "69.8 ms ± 4.58 ms per loop (mean ± std. dev. of 7 runs, 10 loops each)\n"
     ]
    },
    {
     "name": "stderr",
     "output_type": "stream",
     "text": [
      "\r",
      " 20%|██        | 4/20 [01:06<04:32, 17.02s/it]"
     ]
    },
    {
     "name": "stdout",
     "output_type": "stream",
     "text": [
      "18.6 ms ± 14.3 µs per loop (mean ± std. dev. of 7 runs, 100 loops each)\n",
      "93.3 ms ± 5.57 ms per loop (mean ± std. dev. of 7 runs, 10 loops each)\n"
     ]
    },
    {
     "name": "stderr",
     "output_type": "stream",
     "text": [
      "\r",
      " 25%|██▌       | 5/20 [01:16<03:41, 14.79s/it]"
     ]
    },
    {
     "name": "stdout",
     "output_type": "stream",
     "text": [
      "23.5 ms ± 87.6 µs per loop (mean ± std. dev. of 7 runs, 10 loops each)\n",
      "114 ms ± 1.23 ms per loop (mean ± std. dev. of 7 runs, 10 loops each)\n"
     ]
    },
    {
     "name": "stderr",
     "output_type": "stream",
     "text": [
      "\r",
      " 30%|███       | 6/20 [01:27<03:13, 13.82s/it]"
     ]
    },
    {
     "name": "stdout",
     "output_type": "stream",
     "text": [
      "26.9 ms ± 14.1 µs per loop (mean ± std. dev. of 7 runs, 10 loops each)\n",
      "143 ms ± 643 µs per loop (mean ± std. dev. of 7 runs, 10 loops each)\n"
     ]
    },
    {
     "name": "stderr",
     "output_type": "stream",
     "text": [
      "\r",
      " 35%|███▌      | 7/20 [01:41<03:00, 13.92s/it]"
     ]
    },
    {
     "name": "stdout",
     "output_type": "stream",
     "text": [
      "30.3 ms ± 17 µs per loop (mean ± std. dev. of 7 runs, 10 loops each)\n",
      "166 ms ± 134 µs per loop (mean ± std. dev. of 7 runs, 10 loops each)\n"
     ]
    },
    {
     "name": "stderr",
     "output_type": "stream",
     "text": [
      "\r",
      " 40%|████      | 8/20 [01:58<02:55, 14.61s/it]"
     ]
    },
    {
     "name": "stdout",
     "output_type": "stream",
     "text": [
      "32.3 ms ± 45.5 µs per loop (mean ± std. dev. of 7 runs, 10 loops each)\n",
      "191 ms ± 359 µs per loop (mean ± std. dev. of 7 runs, 10 loops each)\n"
     ]
    },
    {
     "name": "stderr",
     "output_type": "stream",
     "text": [
      "\r",
      " 45%|████▌     | 9/20 [02:16<02:53, 15.80s/it]"
     ]
    },
    {
     "name": "stdout",
     "output_type": "stream",
     "text": [
      "35.6 ms ± 61.3 µs per loop (mean ± std. dev. of 7 runs, 10 loops each)\n",
      "221 ms ± 224 µs per loop (mean ± std. dev. of 7 runs, 1 loop each)\n"
     ]
    },
    {
     "name": "stderr",
     "output_type": "stream",
     "text": [
      "\r",
      " 50%|█████     | 10/20 [02:21<02:06, 12.61s/it]"
     ]
    },
    {
     "name": "stdout",
     "output_type": "stream",
     "text": [
      "38.9 ms ± 12 µs per loop (mean ± std. dev. of 7 runs, 10 loops each)\n",
      "247 ms ± 234 µs per loop (mean ± std. dev. of 7 runs, 1 loop each)\n"
     ]
    },
    {
     "name": "stderr",
     "output_type": "stream",
     "text": [
      "\r",
      " 55%|█████▌    | 11/20 [02:27<01:34, 10.53s/it]"
     ]
    },
    {
     "name": "stdout",
     "output_type": "stream",
     "text": [
      "42.2 ms ± 8.69 µs per loop (mean ± std. dev. of 7 runs, 10 loops each)\n",
      "273 ms ± 279 µs per loop (mean ± std. dev. of 7 runs, 1 loop each)\n"
     ]
    },
    {
     "name": "stderr",
     "output_type": "stream",
     "text": [
      "\r",
      " 60%|██████    | 12/20 [02:33<01:13,  9.23s/it]"
     ]
    },
    {
     "name": "stdout",
     "output_type": "stream",
     "text": [
      "45.6 ms ± 86.2 µs per loop (mean ± std. dev. of 7 runs, 10 loops each)\n",
      "299 ms ± 703 µs per loop (mean ± std. dev. of 7 runs, 1 loop each)\n"
     ]
    },
    {
     "name": "stderr",
     "output_type": "stream",
     "text": [
      "\r",
      " 65%|██████▌   | 13/20 [02:40<00:59,  8.47s/it]"
     ]
    },
    {
     "name": "stdout",
     "output_type": "stream",
     "text": [
      "48.8 ms ± 12.4 µs per loop (mean ± std. dev. of 7 runs, 10 loops each)\n",
      "322 ms ± 219 µs per loop (mean ± std. dev. of 7 runs, 1 loop each)\n"
     ]
    },
    {
     "name": "stderr",
     "output_type": "stream",
     "text": [
      "\r",
      " 70%|███████   | 14/20 [02:47<00:48,  8.07s/it]"
     ]
    },
    {
     "name": "stdout",
     "output_type": "stream",
     "text": [
      "52 ms ± 14.4 µs per loop (mean ± std. dev. of 7 runs, 10 loops each)\n",
      "351 ms ± 1.13 ms per loop (mean ± std. dev. of 7 runs, 1 loop each)\n"
     ]
    },
    {
     "name": "stderr",
     "output_type": "stream",
     "text": [
      "\r",
      " 75%|███████▌  | 15/20 [02:55<00:39,  7.96s/it]"
     ]
    },
    {
     "name": "stdout",
     "output_type": "stream",
     "text": [
      "55.5 ms ± 11.3 µs per loop (mean ± std. dev. of 7 runs, 10 loops each)\n",
      "369 ms ± 220 µs per loop (mean ± std. dev. of 7 runs, 1 loop each)\n"
     ]
    },
    {
     "name": "stderr",
     "output_type": "stream",
     "text": [
      "\r",
      " 80%|████████  | 16/20 [03:03<00:32,  8.08s/it]"
     ]
    },
    {
     "name": "stdout",
     "output_type": "stream",
     "text": [
      "61.8 ms ± 19.6 µs per loop (mean ± std. dev. of 7 runs, 10 loops each)\n",
      "397 ms ± 318 µs per loop (mean ± std. dev. of 7 runs, 1 loop each)\n"
     ]
    },
    {
     "name": "stderr",
     "output_type": "stream",
     "text": [
      "\r",
      " 85%|████████▌ | 17/20 [03:12<00:24,  8.25s/it]"
     ]
    },
    {
     "name": "stdout",
     "output_type": "stream",
     "text": [
      "62 ms ± 27.6 µs per loop (mean ± std. dev. of 7 runs, 10 loops each)\n",
      "421 ms ± 296 µs per loop (mean ± std. dev. of 7 runs, 1 loop each)\n"
     ]
    },
    {
     "name": "stderr",
     "output_type": "stream",
     "text": [
      "\r",
      " 90%|█████████ | 18/20 [03:21<00:17,  8.52s/it]"
     ]
    },
    {
     "name": "stdout",
     "output_type": "stream",
     "text": [
      "65.4 ms ± 33.5 µs per loop (mean ± std. dev. of 7 runs, 10 loops each)\n",
      "448 ms ± 277 µs per loop (mean ± std. dev. of 7 runs, 1 loop each)\n"
     ]
    },
    {
     "name": "stderr",
     "output_type": "stream",
     "text": [
      "\r",
      " 95%|█████████▌| 19/20 [03:31<00:08,  8.86s/it]"
     ]
    },
    {
     "name": "stdout",
     "output_type": "stream",
     "text": [
      "68.7 ms ± 12.1 µs per loop (mean ± std. dev. of 7 runs, 10 loops each)\n",
      "469 ms ± 1.63 ms per loop (mean ± std. dev. of 7 runs, 1 loop each)\n"
     ]
    },
    {
     "name": "stderr",
     "output_type": "stream",
     "text": [
      "100%|██████████| 20/20 [03:41<00:00, 11.07s/it]"
     ]
    },
    {
     "name": "stdout",
     "output_type": "stream",
     "text": [
      "75.7 ms ± 9.26 µs per loop (mean ± std. dev. of 7 runs, 10 loops each)\n"
     ]
    },
    {
     "name": "stderr",
     "output_type": "stream",
     "text": [
      "\n"
     ]
    }
   ],
   "source": [
    "for i in tqdm( range(N_arr.shape[-1]) ):\n",
    "    x, y  = return_coupled_normal(Trials = 10, Regions = 10, N = N_arr[i], rho = 0.7)\n",
    "    # CPU\n",
    "    #start = time.time()\n",
    "    aux = %timeit -o mi_model_nd_gd(x,y, mvaxis=1, traxis=-1, biascorrect=True, demeaned=False, shape_checking=False)\n",
    "    #end   = time.time()\n",
    "    exta[0,i] = aux.average\n",
    "    exts[0,i] = aux.stdev\n",
    "    # GPU \n",
    "    x_gpu, y_gpu = cp.array(x), cp.array(y)\n",
    "    #start = time.time()\n",
    "    aux = %timeit -o mi_model_nd_gd_gpu(x_gpu,y_gpu, mvaxis=1, traxis=-1, biascorrect=True, demeaned=False, shape_checking=False)\n",
    "    #end   = time.time()\n",
    "    exta[1,i] = aux.average#end-start\n",
    "    exts[1,i] = aux.stdev"
   ]
  },
  {
   "cell_type": "code",
   "execution_count": 16,
   "metadata": {},
   "outputs": [
    {
     "data": {
      "image/png": "[encoded data removed]",
      "text/plain": [
       "<Figure size 504x432 with 2 Axes>"
      ]
     },
     "metadata": {
      "needs_background": "light"
     },
     "output_type": "display_data"
    }
   ],
   "source": [
    "plt.figure(figsize=(7,6))\n",
    "plt.subplot2grid((3,2), (0,0), rowspan = 2, colspan = 2)\n",
    "plt.plot(N_arr, exta[0], 'sb', label = 'CPU')\n",
    "plt.fill_between(N_arr, exta[0]-2*exts[0], exta[0]+2*exts[0], color = 'b', alpha = .2)\n",
    "plt.plot(N_arr, exta[1], 'sr', label = 'GPU')\n",
    "plt.fill_between(N_arr, exta[1]-2*exts[1], exta[1]+2*exts[1], color = 'r', alpha = .2)\n",
    "plt.xticks([])\n",
    "plt.title('FRITES - mi_model_nd_gd')\n",
    "plt.ylabel('Exc. time [s]')\n",
    "plt.legend()\n",
    "plt.subplot2grid((3,2), (2,0), rowspan = 1, colspan = 2)\n",
    "plt.plot(N_arr, exta[0]/exta[1], 'g--', lw = 3)\n",
    "plt.ylabel(r'CPU/GPU')\n",
    "plt.xlabel('Series length')\n",
    "plt.tight_layout()\n",
    "plt.savefig('mi_model_nd_gd.pdf', dpi = 600)"
   ]
  },
  {
   "cell_type": "markdown",
   "metadata": {},
   "source": [
    "### Agnostic"
   ]
  },
  {
   "cell_type": "code",
   "execution_count": 12,
   "metadata": {},
   "outputs": [],
   "source": [
    "def get_cupy(target='auto', verbose=None):\n",
    "    \"\"\"Get CuPy (if installed) otherwise get NumPy.\n",
    "    Parameters\n",
    "    ----------\n",
    "    target : {'cpu', 'gpu', 'auto'}\n",
    "        Specify if it's a CPU or GPU context. If auto, GPU is preferred but if\n",
    "        it's failing, CPU is returned\n",
    "    \"\"\"\n",
    "    set_log_level(verbose)\n",
    "    assert target in ['cpu', 'gpu', 'auto']\n",
    "\n",
    "    # ___________________________ Internal switches ___________________________\n",
    "\n",
    "    def _get_np():\n",
    "        import numpy as np\n",
    "        cp = np\n",
    "        cp.asnumpy = np.asarray\n",
    "        return 'cpu', cp\n",
    "\n",
    "    def _get_cp():\n",
    "        import cupy as cp\n",
    "        return 'gpu', cp\n",
    "\n",
    "    # _____________________________ Global switch _____________________________\n",
    "    if target == 'cpu':\n",
    "        return _get_np()\n",
    "    elif target == 'gpu':\n",
    "        return _get_cp()\n",
    "    elif target == 'auto':\n",
    "        try:\n",
    "            tgt, cp =  _get_cp()\n",
    "            logger.info('Cupy imported')\n",
    "        except:\n",
    "            tgt, cp = _get_np()\n",
    "            logger.error('Cannot import cupy. Using Numpy instead')\n",
    "        return tgt, cp\n",
    "\n",
    "def get_special(target='auto', verbose=None):\n",
    "    \"\"\"Get Cupyx special (if installed) otherwise get Scipy special.\n",
    "    Parameters\n",
    "    ----------\n",
    "    target : {'cpu', 'gpu', 'auto'}\n",
    "        Specify if it's a CPU or GPU context. If auto, GPU is preferred but if\n",
    "        it's failing, CPU is returned\n",
    "    \"\"\"\n",
    "    set_log_level(verbose)\n",
    "    assert target in ['cpu', 'gpu', 'auto']\n",
    "\n",
    "    # ___________________________ Internal switches ___________________________\n",
    "\n",
    "    def _get_sp():\n",
    "        import scipy.special as sp\n",
    "        return 'cpu', sp\n",
    "\n",
    "    def _get_cxsp():\n",
    "        import cupyx.scipy.special as sp\n",
    "        return 'gpu', sp\n",
    "\n",
    "    # _____________________________ Global switch _____________________________\n",
    "    if target == 'cpu':\n",
    "        return _get_sp()\n",
    "    elif target == 'gpu':\n",
    "        return _get_cxsp()\n",
    "    elif target == 'auto':\n",
    "        try:\n",
    "            tgt, sp =  _get_cxsp()\n",
    "            logger.info('Cupy imported')\n",
    "        except:\n",
    "            tgt, sp = _get_sp()\n",
    "            logger.error('Cannot import cupy. Using Scipy special instead')\n",
    "        return tgt, sp\n",
    "\n",
    "def get_cusignal(target='auto', verbose=False):\n",
    "    \"\"\"Get cusignal (if installed) otherwise get scipy.signal.\"\"\"\n",
    "    set_log_level(verbose)\n",
    "    assert target in ['cpu', 'gpu', 'auto']\n",
    "\n",
    "    # ___________________________ Internal switches ___________________________\n",
    "\n",
    "    def _get_sp():\n",
    "        from scipy import signal\n",
    "        return 'cpu', signal\n",
    "\n",
    "    def _get_cs():\n",
    "        import cusignal\n",
    "        return 'gpu', cusignal\n",
    "\n",
    "    # _____________________________ Global switch _____________________________\n",
    "    if target == 'cpu':\n",
    "        return _get_sp()\n",
    "    elif target == 'gpu':\n",
    "        return _get_cs()\n",
    "    elif target == 'auto':\n",
    "        try:\n",
    "            tgt, cs = _get_cs()\n",
    "            logger.info('Cusignal imported')\n",
    "        except:\n",
    "            tgt, cs = _get_sp()\n",
    "            logger.error('Cannot import cusignal. Using scipy.signal instead')\n",
    "        return tgt, cs"
   ]
  },
  {
   "cell_type": "code",
   "execution_count": 16,
   "metadata": {},
   "outputs": [],
   "source": [
    "def nd_reshape(x, mvaxis=None, target = 'auto', traxis=-1):\n",
    "    \"\"\"Multi-dimentional reshaping.\n",
    "    This function is used to be sure that an nd array has a correct shape\n",
    "    of (..., mvaxis, traxis).\n",
    "    Parameters\n",
    "    ----------\n",
    "    x : array_like\n",
    "        Multi-dimentional array\n",
    "    mvaxis : int | None\n",
    "        Spatial location of the axis to consider if multi-variate analysis\n",
    "        is needed\n",
    "    traxis : int | -1\n",
    "        Spatial location of the trial axis. By default the last axis is\n",
    "        considered\n",
    "    Returns\n",
    "    -------\n",
    "    x_rsh : array_like\n",
    "        The reshaped multi-dimentional array of shape (..., mvaxis, traxis)\n",
    "    \"\"\"\n",
    "    _, cp = get_cupy(target=target)\n",
    "    \n",
    "    assert isinstance(traxis, int)\n",
    "    traxis = cp.arange(x.ndim)[traxis]\n",
    "\n",
    "    # Create an empty mvaxis axis\n",
    "    if not isinstance(mvaxis, int):\n",
    "        x = x[..., cp.newaxis]\n",
    "        mvaxis = -1\n",
    "    assert isinstance(mvaxis, int)\n",
    "    mvaxis = cp.arange(x.ndim)[mvaxis]\n",
    "\n",
    "    # move the multi-variate and trial axis\n",
    "    x = cp.moveaxis(x, (mvaxis, traxis), (-2, -1))\n",
    "\n",
    "    return x\n",
    "\n",
    "def mi_model_nd_gd(x, y, mvaxis=None, traxis=-1, target = 'auto', biascorrect=True,\n",
    "                   demeaned=False, shape_checking=True):\n",
    "    \"\"\"Multi-dimentional MI between a Gaussian and a discret variables in bits.\n",
    "    This function is based on ANOVA style model comparison.\n",
    "    Parameters\n",
    "    ----------\n",
    "    x, y : array_like\n",
    "        Arrays to consider for computing the Mutual Information. The two input\n",
    "        variables x and y should have the same shape except on the mvaxis\n",
    "        (if needed).\n",
    "    mvaxis : int | None\n",
    "        Spatial location of the axis to consider if multi-variate analysis\n",
    "        is needed\n",
    "    traxis : int | -1\n",
    "        Spatial location of the trial axis. By default the last axis is\n",
    "        considered\n",
    "    biascorrect : bool | True\n",
    "        Specifies whether bias correction should be applied to the estimated MI\n",
    "    demeaned : bool | False\n",
    "        Specifies whether the input data already has zero mean (true if it has\n",
    "        been copula-normalized)\n",
    "    shape_checking : bool | True\n",
    "        Perform a reshape and check that x and y shapes are consistents. For\n",
    "        high performances and to avoid extensive memory usage, it's better to\n",
    "        already have x and y with a shape of (..., mvaxis, traxis) and to set\n",
    "        this parameter to False\n",
    "    Returns\n",
    "    -------\n",
    "    mi : array_like\n",
    "        The mutual information with the same shape as x and y, without the\n",
    "        mvaxis and traxis\n",
    "    \"\"\"\n",
    "    tg, cp = get_cupy(target=target)\n",
    "    _,  sp = get_special(target=target)\n",
    "    \n",
    "    if target=='gpu' and isinstance(x, np.ndarray):\n",
    "        x = cp.array(x)\n",
    "    if target=='gpu' and isinstance(y, np.ndarray):\n",
    "        y = cp.array(y)\n",
    "    \n",
    "    # Multi-dimentional shape checking\n",
    "    if shape_checking:\n",
    "        x = nd_reshape_gpu(x, mvaxis=mvaxis, target = tg, traxis=traxis)\n",
    "    assert isinstance(y, cp.ndarray) and (y.ndim == 1)\n",
    "    assert x.shape[-1] == len(y)\n",
    "\n",
    "    # x.shape (..., x_mvaxis, traxis)\n",
    "    nvarx, ntrl = x.shape[-2], x.shape[-1]\n",
    "    u_y = cp.unique(y)\n",
    "    sh = x.shape[:-2]\n",
    "    zm_shape = list(sh) + [len(u_y)]\n",
    "\n",
    "    # joint variable along the mvaxis\n",
    "    if not demeaned:\n",
    "        x = x - x.mean(axis=-1, keepdims=True)\n",
    "\n",
    "    # class-conditional entropies\n",
    "    ntrl_y = cp.zeros((len(u_y),), dtype=int)\n",
    "    hcond = cp.zeros(zm_shape, dtype=float)\n",
    "    # c = .5 * (np.log(2. * np.pi) + 1)\n",
    "    for num, yi in enumerate(u_y):\n",
    "        idx = y == yi\n",
    "        xm = x[..., idx]\n",
    "        ntrl_y[num] = idx.sum()\n",
    "        xm = xm - xm.mean(axis=-1, keepdims=True)\n",
    "        cm = cp.einsum('...ij, ...kj->...ik', xm, xm) / float(ntrl_y[num] - 1.)\n",
    "        chcm = cp.linalg.cholesky(cm)\n",
    "        hcond[..., num] = cp.log(cp.einsum('...ii->...i', chcm)).sum(-1)\n",
    "\n",
    "    # class weights\n",
    "    w = ntrl_y / float(ntrl)\n",
    "\n",
    "    # unconditional entropy from unconditional Gaussian fit\n",
    "    cx = cp.einsum('...ij, ...kj->...ik', x, x) / float(ntrl - 1.)\n",
    "    chc = cp.linalg.cholesky(cx)\n",
    "    hunc = cp.log(cp.einsum('...ii->...i', chc)).sum(-1)\n",
    "\n",
    "    ln2 = cp.log(2)\n",
    "    if biascorrect:\n",
    "        vars = cp.arange(1, nvarx + 1)\n",
    "\n",
    "        psiterms = sp.digamma((ntrl - vars).astype(float) / 2.) / 2.\n",
    "        dterm = (ln2 - cp.log(float(ntrl - 1))) / 2.\n",
    "        hunc = hunc - nvarx * dterm - psiterms.sum()\n",
    "\n",
    "        dterm = (ln2 - cp.log((ntrl_y - 1).astype(float))) / 2.\n",
    "        psiterms = cp.zeros_like(ntrl_y, dtype=float)\n",
    "        for vi in vars:\n",
    "            idx = ntrl_y - vi\n",
    "            psiterms = psiterms + sp.digamma(idx.astype(cp.float) / 2.)\n",
    "        hcond = hcond - nvarx * dterm - (psiterms / 2.)\n",
    "\n",
    "    # MI in bits\n",
    "    i = (hunc - cp.einsum('i, ...i', w, hcond)) / ln2\n",
    "    # Clean GPU memory\n",
    "    if target == 'gpu':\n",
    "        cp._default_memory_pool.free_all_blocks()\n",
    "    return i"
   ]
  },
  {
   "cell_type": "code",
   "execution_count": 17,
   "metadata": {},
   "outputs": [],
   "source": [
    "# Computing for different series length\n",
    "N_arr = np.linspace(1000, 100000, 20, dtype = int)\n",
    "exta  = np.zeros([2, len(N_arr)])\n",
    "exts  = np.zeros([2, len(N_arr)])"
   ]
  },
  {
   "cell_type": "code",
   "execution_count": 19,
   "metadata": {},
   "outputs": [
    {
     "name": "stderr",
     "output_type": "stream",
     "text": [
      "\r",
      "  0%|          | 0/20 [00:00<?, ?it/s]"
     ]
    },
    {
     "name": "stdout",
     "output_type": "stream",
     "text": [
      "5.5 ms ± 9.82 µs per loop (mean ± std. dev. of 7 runs, 100 loops each)\n"
     ]
    },
    {
     "name": "stderr",
     "output_type": "stream",
     "text": [
      "\r",
      "  5%|▌         | 1/20 [00:05<01:39,  5.26s/it]"
     ]
    },
    {
     "name": "stdout",
     "output_type": "stream",
     "text": [
      "13.9 ms ± 60.6 µs per loop (mean ± std. dev. of 7 runs, 1 loop each)\n",
      "26.1 ms ± 34.4 µs per loop (mean ± std. dev. of 7 runs, 10 loops each)\n"
     ]
    },
    {
     "name": "stderr",
     "output_type": "stream",
     "text": [
      "\r",
      " 10%|█         | 2/20 [00:19<02:20,  7.81s/it]"
     ]
    },
    {
     "name": "stdout",
     "output_type": "stream",
     "text": [
      "14.3 ms ± 429 µs per loop (mean ± std. dev. of 7 runs, 100 loops each)\n",
      "45.8 ms ± 24 µs per loop (mean ± std. dev. of 7 runs, 10 loops each)\n"
     ]
    },
    {
     "name": "stderr",
     "output_type": "stream",
     "text": [
      "\r",
      " 15%|█▌        | 3/20 [00:36<03:01, 10.70s/it]"
     ]
    },
    {
     "name": "stdout",
     "output_type": "stream",
     "text": [
      "16.8 ms ± 172 µs per loop (mean ± std. dev. of 7 runs, 100 loops each)\n",
      "66.9 ms ± 96.3 µs per loop (mean ± std. dev. of 7 runs, 10 loops each)\n"
     ]
    },
    {
     "name": "stderr",
     "output_type": "stream",
     "text": [
      "\r",
      " 20%|██        | 4/20 [00:57<03:40, 13.80s/it]"
     ]
    },
    {
     "name": "stdout",
     "output_type": "stream",
     "text": [
      "19.1 ms ± 12.4 µs per loop (mean ± std. dev. of 7 runs, 100 loops each)\n",
      "89.4 ms ± 197 µs per loop (mean ± std. dev. of 7 runs, 10 loops each)\n"
     ]
    },
    {
     "name": "stderr",
     "output_type": "stream",
     "text": [
      "\r",
      " 25%|██▌       | 5/20 [01:06<03:06, 12.43s/it]"
     ]
    },
    {
     "name": "stdout",
     "output_type": "stream",
     "text": [
      "22.6 ms ± 14.5 µs per loop (mean ± std. dev. of 7 runs, 10 loops each)\n",
      "112 ms ± 109 µs per loop (mean ± std. dev. of 7 runs, 10 loops each)\n"
     ]
    },
    {
     "name": "stderr",
     "output_type": "stream",
     "text": [
      "\r",
      " 30%|███       | 6/20 [01:18<02:49, 12.10s/it]"
     ]
    },
    {
     "name": "stdout",
     "output_type": "stream",
     "text": [
      "26.1 ms ± 42.3 µs per loop (mean ± std. dev. of 7 runs, 10 loops each)\n",
      "139 ms ± 91.7 µs per loop (mean ± std. dev. of 7 runs, 10 loops each)\n"
     ]
    },
    {
     "name": "stderr",
     "output_type": "stream",
     "text": [
      "\r",
      " 35%|███▌      | 7/20 [01:31<02:44, 12.63s/it]"
     ]
    },
    {
     "name": "stdout",
     "output_type": "stream",
     "text": [
      "29.5 ms ± 8.59 µs per loop (mean ± std. dev. of 7 runs, 10 loops each)\n",
      "164 ms ± 108 µs per loop (mean ± std. dev. of 7 runs, 10 loops each)\n"
     ]
    },
    {
     "name": "stderr",
     "output_type": "stream",
     "text": [
      "\r",
      " 40%|████      | 8/20 [01:47<02:43, 13.66s/it]"
     ]
    },
    {
     "name": "stdout",
     "output_type": "stream",
     "text": [
      "31.5 ms ± 16.6 µs per loop (mean ± std. dev. of 7 runs, 10 loops each)\n",
      "194 ms ± 248 µs per loop (mean ± std. dev. of 7 runs, 10 loops each)\n"
     ]
    },
    {
     "name": "stderr",
     "output_type": "stream",
     "text": [
      "\r",
      " 45%|████▌     | 9/20 [02:06<02:47, 15.25s/it]"
     ]
    },
    {
     "name": "stdout",
     "output_type": "stream",
     "text": [
      "36.5 ms ± 10.7 µs per loop (mean ± std. dev. of 7 runs, 10 loops each)\n",
      "215 ms ± 115 µs per loop (mean ± std. dev. of 7 runs, 1 loop each)\n"
     ]
    },
    {
     "name": "stderr",
     "output_type": "stream",
     "text": [
      "\r",
      " 50%|█████     | 10/20 [02:12<02:02, 12.24s/it]"
     ]
    },
    {
     "name": "stdout",
     "output_type": "stream",
     "text": [
      "40 ms ± 10 µs per loop (mean ± std. dev. of 7 runs, 10 loops each)\n",
      "247 ms ± 412 µs per loop (mean ± std. dev. of 7 runs, 1 loop each)\n"
     ]
    },
    {
     "name": "stderr",
     "output_type": "stream",
     "text": [
      "\r",
      " 55%|█████▌    | 11/20 [02:17<01:32, 10.30s/it]"
     ]
    },
    {
     "name": "stdout",
     "output_type": "stream",
     "text": [
      "43.5 ms ± 8.12 µs per loop (mean ± std. dev. of 7 runs, 10 loops each)\n",
      "271 ms ± 1.31 ms per loop (mean ± std. dev. of 7 runs, 1 loop each)\n"
     ]
    },
    {
     "name": "stderr",
     "output_type": "stream",
     "text": [
      "\r",
      " 60%|██████    | 12/20 [02:24<01:12,  9.10s/it]"
     ]
    },
    {
     "name": "stdout",
     "output_type": "stream",
     "text": [
      "47 ms ± 19.1 µs per loop (mean ± std. dev. of 7 runs, 10 loops each)\n",
      "304 ms ± 5.12 ms per loop (mean ± std. dev. of 7 runs, 1 loop each)\n"
     ]
    },
    {
     "name": "stderr",
     "output_type": "stream",
     "text": [
      "\r",
      " 65%|██████▌   | 13/20 [02:31<00:59,  8.43s/it]"
     ]
    },
    {
     "name": "stdout",
     "output_type": "stream",
     "text": [
      "50.5 ms ± 6.48 µs per loop (mean ± std. dev. of 7 runs, 10 loops each)\n",
      "317 ms ± 108 µs per loop (mean ± std. dev. of 7 runs, 1 loop each)\n"
     ]
    },
    {
     "name": "stderr",
     "output_type": "stream",
     "text": [
      "\r",
      " 70%|███████   | 14/20 [02:38<00:48,  8.15s/it]"
     ]
    },
    {
     "name": "stdout",
     "output_type": "stream",
     "text": [
      "56.7 ms ± 37.8 µs per loop (mean ± std. dev. of 7 runs, 10 loops each)\n",
      "346 ms ± 96.4 µs per loop (mean ± std. dev. of 7 runs, 1 loop each)\n"
     ]
    },
    {
     "name": "stderr",
     "output_type": "stream",
     "text": [
      "\r",
      " 75%|███████▌  | 15/20 [02:46<00:40,  8.12s/it]"
     ]
    },
    {
     "name": "stdout",
     "output_type": "stream",
     "text": [
      "60.5 ms ± 14.8 µs per loop (mean ± std. dev. of 7 runs, 10 loops each)\n",
      "370 ms ± 389 µs per loop (mean ± std. dev. of 7 runs, 1 loop each)\n"
     ]
    },
    {
     "name": "stderr",
     "output_type": "stream",
     "text": [
      "\r",
      " 80%|████████  | 16/20 [02:55<00:33,  8.26s/it]"
     ]
    },
    {
     "name": "stdout",
     "output_type": "stream",
     "text": [
      "64.2 ms ± 4.93 µs per loop (mean ± std. dev. of 7 runs, 10 loops each)\n",
      "393 ms ± 257 µs per loop (mean ± std. dev. of 7 runs, 1 loop each)\n"
     ]
    },
    {
     "name": "stderr",
     "output_type": "stream",
     "text": [
      "\r",
      " 85%|████████▌ | 17/20 [03:04<00:25,  8.52s/it]"
     ]
    },
    {
     "name": "stdout",
     "output_type": "stream",
     "text": [
      "67.9 ms ± 6.1 µs per loop (mean ± std. dev. of 7 runs, 10 loops each)\n",
      "418 ms ± 71.4 µs per loop (mean ± std. dev. of 7 runs, 1 loop each)\n"
     ]
    },
    {
     "name": "stderr",
     "output_type": "stream",
     "text": [
      "\r",
      " 90%|█████████ | 18/20 [03:13<00:17,  8.85s/it]"
     ]
    },
    {
     "name": "stdout",
     "output_type": "stream",
     "text": [
      "71.6 ms ± 5.97 µs per loop (mean ± std. dev. of 7 runs, 10 loops each)\n",
      "446 ms ± 142 µs per loop (mean ± std. dev. of 7 runs, 1 loop each)\n"
     ]
    },
    {
     "name": "stderr",
     "output_type": "stream",
     "text": [
      "\r",
      " 95%|█████████▌| 19/20 [03:24<00:09,  9.24s/it]"
     ]
    },
    {
     "name": "stdout",
     "output_type": "stream",
     "text": [
      "75.3 ms ± 15.4 µs per loop (mean ± std. dev. of 7 runs, 10 loops each)\n",
      "468 ms ± 152 µs per loop (mean ± std. dev. of 7 runs, 1 loop each)\n"
     ]
    },
    {
     "name": "stderr",
     "output_type": "stream",
     "text": [
      "100%|██████████| 20/20 [03:34<00:00, 10.74s/it]"
     ]
    },
    {
     "name": "stdout",
     "output_type": "stream",
     "text": [
      "78.9 ms ± 22.7 µs per loop (mean ± std. dev. of 7 runs, 10 loops each)\n"
     ]
    },
    {
     "name": "stderr",
     "output_type": "stream",
     "text": [
      "\n"
     ]
    }
   ],
   "source": [
    "for i in tqdm( range(N_arr.shape[-1]) ):\n",
    "    x, y  = return_coupled_normal(Trials = 10, Regions = 10, N = N_arr[i], rho = 0.7)\n",
    "    # CPU\n",
    "    #start = time.time()\n",
    "    aux = %timeit -o mi_model_nd_gd(x,y, mvaxis=1, traxis=-1, target = 'cpu', biascorrect=True, \\\n",
    "                                    demeaned=False, shape_checking=False)\n",
    "    #end   = time.time()\n",
    "    exta[0,i] = aux.average\n",
    "    exts[0,i] = aux.stdev\n",
    "    # GPU \n",
    "    x_gpu, y_gpu = cp.array(x), cp.array(y)\n",
    "    #start = time.time()\n",
    "    aux = %timeit -o mi_model_nd_gd(x_gpu,y_gpu, mvaxis=1, target = 'gpu', traxis=-1, \\\n",
    "                                        biascorrect=True, demeaned=False, shape_checking=False)\n",
    "    #end   = time.time()\n",
    "    exta[1,i] = aux.average#end-start\n",
    "    exts[1,i] = aux.stdev"
   ]
  },
  {
   "cell_type": "code",
   "execution_count": 20,
   "metadata": {},
   "outputs": [
    {
     "data": {
      "image/png": "[encoded data removed]",
      "text/plain": [
       "<Figure size 504x432 with 2 Axes>"
      ]
     },
     "metadata": {
      "needs_background": "light"
     },
     "output_type": "display_data"
    }
   ],
   "source": [
    "plt.figure(figsize=(7,6))\n",
    "plt.subplot2grid((3,2), (0,0), rowspan = 2, colspan = 2)\n",
    "plt.plot(N_arr, exta[0], 'sb', label = 'CPU')\n",
    "plt.fill_between(N_arr, exta[0]-2*exts[0], exta[0]+2*exts[0], color = 'b', alpha = .2)\n",
    "plt.plot(N_arr, exta[1], 'sr', label = 'GPU')\n",
    "plt.fill_between(N_arr, exta[1]-2*exts[1], exta[1]+2*exts[1], color = 'r', alpha = .2)\n",
    "plt.xticks([])\n",
    "plt.title('FRITES - mi_model_nd_gd')\n",
    "plt.ylabel('Exc. time [s]')\n",
    "plt.legend()\n",
    "plt.subplot2grid((3,2), (2,0), rowspan = 1, colspan = 2)\n",
    "plt.plot(N_arr, exta[0]/exta[1], 'g--', lw = 3)\n",
    "plt.ylabel(r'CPU/GPU')\n",
    "plt.xlabel('Series length')\n",
    "plt.tight_layout()\n",
    "plt.savefig('mi_model_nd_gd.pdf', dpi = 600)"
   ]
  },
  {
   "cell_type": "code",
   "execution_count": null,
   "metadata": {},
   "outputs": [],
   "source": []
  }
 ],
 "metadata": {
  "kernelspec": {
   "display_name": "Python 3",
   "language": "python",
   "name": "python3"
  },
  "language_info": {
   "codemirror_mode": {
    "name": "ipython",
    "version": 3
   },
   "file_extension": ".py",
   "mimetype": "text/x-python",
   "name": "python",
   "nbconvert_exporter": "python",
   "pygments_lexer": "ipython3",
   "version": "3.6.8"
  }
 },
 "nbformat": 4,
 "nbformat_minor": 2
}
