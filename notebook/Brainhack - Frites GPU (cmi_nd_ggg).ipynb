{
 "cells": [
  {
   "cell_type": "code",
   "execution_count": 1,
   "metadata": {},
   "outputs": [],
   "source": [
    "import frites\n",
    "import time\n",
    "from   tqdm                import tqdm\n",
    "import cupy                               as cp\n",
    "import cupyx                              as cpx\n",
    "import numpy                              as np\n",
    "import matplotlib.pyplot                  as plt \n",
    "import scipy                              as sp\n",
    "from   cupyx.scipy.special import digamma as psi"
   ]
  },
  {
   "cell_type": "markdown",
   "metadata": {},
   "source": [
    "### CPU"
   ]
  },
  {
   "cell_type": "code",
   "execution_count": 27,
   "metadata": {},
   "outputs": [],
   "source": [
    "def nd_reshape(x, mvaxis=None, traxis=-1):\n",
    "    \"\"\"Multi-dimentional reshaping.\n",
    "    This function is used to be sure that an nd array has a correct shape\n",
    "    of (..., mvaxis, traxis).\n",
    "    Parameters\n",
    "    ----------\n",
    "    x : array_like\n",
    "        Multi-dimentional array\n",
    "    mvaxis : int | None\n",
    "        Spatial location of the axis to consider if multi-variate analysis\n",
    "        is needed\n",
    "    traxis : int | -1\n",
    "        Spatial location of the trial axis. By default the last axis is\n",
    "        considered\n",
    "    Returns\n",
    "    -------\n",
    "    x_rsh : array_like\n",
    "        The reshaped multi-dimentional array of shape (..., mvaxis, traxis)\n",
    "    \"\"\"\n",
    "    assert isinstance(traxis, int)\n",
    "    traxis = np.arange(x.ndim)[traxis]\n",
    "\n",
    "    # Create an empty mvaxis axis\n",
    "    if not isinstance(mvaxis, int):\n",
    "        x = x[..., np.newaxis]\n",
    "        mvaxis = -1\n",
    "    assert isinstance(mvaxis, int)\n",
    "    mvaxis = np.arange(x.ndim)[mvaxis]\n",
    "\n",
    "    # move the multi-variate and trial axis\n",
    "    x = np.moveaxis(x, (mvaxis, traxis), (-2, -1))\n",
    "\n",
    "    return x\n",
    "\n",
    "def cmi_nd_ggg(x, y, z, mvaxis=None, traxis=-1, biascorrect=True,\n",
    "               demeaned=False, shape_checking=True):\n",
    "    \"\"\"Multi-dimentional MI between three Gaussian variables in bits.\n",
    "    This function is based on ANOVA style model comparison.\n",
    "    Parameters\n",
    "    ----------\n",
    "    x, y, z : array_like\n",
    "        Arrays to consider for computing the Mutual Information. The three\n",
    "        input variables x, y and z should have the same shape except on the\n",
    "        mvaxis (if needed).\n",
    "    mvaxis : int | None\n",
    "        Spatial location of the axis to consider if multi-variate analysis\n",
    "        is needed\n",
    "    traxis : int | -1\n",
    "        Spatial location of the trial axis. By default the last axis is\n",
    "        considered\n",
    "    biascorrect : bool | True\n",
    "        Specifies whether bias correction should be applied to the estimated MI\n",
    "    demeaned : bool | False\n",
    "        Specifies whether the input data already has zero mean (true if it has\n",
    "        been copula-normalized)\n",
    "    shape_checking : bool | True\n",
    "        Perform a reshape and check that x and y shapes are consistents. For\n",
    "        high performances and to avoid extensive memory usage, it's better to\n",
    "        already have x and y with a shape of (..., mvaxis, traxis) and to set\n",
    "        this parameter to False\n",
    "    Returns\n",
    "    -------\n",
    "    mi : array_like\n",
    "        The mutual information with the same shape as x, y and z without the\n",
    "        mvaxis and traxis\n",
    "    \"\"\"\n",
    "    # Multi-dimentional shape checking\n",
    "    if shape_checking:\n",
    "        x = nd_reshape(x, mvaxis=mvaxis, traxis=traxis)\n",
    "        y = nd_reshape(y, mvaxis=mvaxis, traxis=traxis)\n",
    "        z = nd_reshape(z, mvaxis=mvaxis, traxis=traxis)\n",
    "        nd_shape_checking(x, y, mvaxis, traxis)\n",
    "        nd_shape_checking(x, z, mvaxis, traxis)\n",
    "\n",
    "    # x.shape == y.shape == z.shape (..., x_mvaxis, traxis)\n",
    "    ntrl = x.shape[-1]\n",
    "    nvarx, nvary, nvarz = x.shape[-2], y.shape[-2], z.shape[-2]\n",
    "    nvarxy = nvarx + nvary\n",
    "    nvaryz = nvary + nvarz\n",
    "    nvarxy = nvarx + nvary\n",
    "    nvarxz = nvarx + nvarz\n",
    "    nvarxyz = nvarx + nvaryz\n",
    "\n",
    "    # joint variable along the mvaxis\n",
    "    xyz = np.concatenate((x, y, z), axis=-2)\n",
    "    if not demeaned:\n",
    "        xyz -= xyz.mean(axis=-1, keepdims=True)\n",
    "    cxyz = np.einsum('...ij, ...kj->...ik', xyz, xyz)\n",
    "    cxyz /= float(ntrl - 1.)\n",
    "\n",
    "    # submatrices of joint covariance\n",
    "    cz = cxyz[..., nvarxy:, nvarxy:]\n",
    "    cyz = cxyz[..., nvarx:, nvarx:]\n",
    "    sh = list(cxyz.shape)\n",
    "    sh[-1], sh[-2] = nvarxz, nvarxz\n",
    "    cxz = np.zeros(tuple(sh), dtype=float)\n",
    "    cxz[..., :nvarx, :nvarx] = cxyz[..., :nvarx, :nvarx]\n",
    "    cxz[..., :nvarx, nvarx:] = cxyz[..., :nvarx, nvarxy:]\n",
    "    cxz[..., nvarx:, :nvarx] = cxyz[..., nvarxy:, :nvarx]\n",
    "    cxz[..., nvarx:, nvarx:] = cxyz[..., nvarxy:, nvarxy:]\n",
    "\n",
    "    # Cholesky decomposition\n",
    "    chcz = np.linalg.cholesky(cz)\n",
    "    chcxz = np.linalg.cholesky(cxz)\n",
    "    chcyz = np.linalg.cholesky(cyz)\n",
    "    chcxyz = np.linalg.cholesky(cxyz)\n",
    "\n",
    "    # entropies in nats\n",
    "    # normalizations cancel for mutual information\n",
    "    hz = np.log(np.einsum('...ii->...i', chcz)).sum(-1)\n",
    "    hxz = np.log(np.einsum('...ii->...i', chcxz)).sum(-1)\n",
    "    hyz = np.log(np.einsum('...ii->...i', chcyz)).sum(-1)\n",
    "    hxyz = np.log(np.einsum('...ii->...i', chcxyz)).sum(-1)\n",
    "\n",
    "    ln2 = np.log(2)\n",
    "    if biascorrect:\n",
    "        vec = np.arange(1, nvarxyz + 1)\n",
    "        psiterms = sp.special.psi((ntrl - vec).astype(np.float) / 2.0) / 2.0\n",
    "        dterm = (ln2 - np.log(ntrl - 1.0)) / 2.0\n",
    "        hz = hz - nvarz * dterm - psiterms[:nvarz].sum()\n",
    "        hxz = hxz - nvarxz * dterm - psiterms[:nvarxz].sum()\n",
    "        hyz = hyz - nvaryz * dterm - psiterms[:nvaryz].sum()\n",
    "        hxyz = hxyz - nvarxyz * dterm - psiterms[:nvarxyz].sum()\n",
    "\n",
    "    # MI in bits\n",
    "    i = (hxz + hyz - hxyz - hz) / ln2\n",
    "    return i"
   ]
  },
  {
   "cell_type": "code",
   "execution_count": 52,
   "metadata": {},
   "outputs": [],
   "source": [
    "def nd_reshape_gpu(x, mvaxis=None, traxis=-1):\n",
    "    \"\"\"Multi-dimentional reshaping.\n",
    "    This function is used to be sure that an nd array has a correct shape\n",
    "    of (..., mvaxis, traxis).\n",
    "    Parameters\n",
    "    ----------\n",
    "    x : array_like\n",
    "        Multi-dimentional array\n",
    "    mvaxis : int | None\n",
    "        Spatial location of the axis to consider if multi-variate analysis\n",
    "        is needed\n",
    "    traxis : int | -1\n",
    "        Spatial location of the trial axis. By default the last axis is\n",
    "        considered\n",
    "    Returns\n",
    "    -------\n",
    "    x_rsh : array_like\n",
    "        The reshaped multi-dimentional array of shape (..., mvaxis, traxis)\n",
    "    \"\"\"\n",
    "    assert isinstance(traxis, int)\n",
    "    traxis = cp.arange(x.ndim)[traxis]\n",
    "\n",
    "    # Create an empty mvaxis axis\n",
    "    if not isinstance(mvaxis, int):\n",
    "        x = x[..., cp.newaxis]\n",
    "        mvaxis = -1\n",
    "    assert isinstance(mvaxis, int)\n",
    "    mvaxis = cp.arange(x.ndim)[mvaxis]\n",
    "\n",
    "    # move the multi-variate and trial axis\n",
    "    x = cp.moveaxis(x, (mvaxis, traxis), (-2, -1))\n",
    "\n",
    "    return x\n",
    "\n",
    "def cmi_nd_ggg_gpu(x, y, z, mvaxis=None, traxis=-1, biascorrect=True,\n",
    "               demeaned=False, shape_checking=True):\n",
    "    \"\"\"Multi-dimentional MI between three Gaussian variables in bits.\n",
    "    This function is based on ANOVA style model comparison.\n",
    "    Parameters\n",
    "    ----------\n",
    "    x, y, z : array_like\n",
    "        Arrays to consider for computing the Mutual Information. The three\n",
    "        input variables x, y and z should have the same shape except on the\n",
    "        mvaxis (if needed).\n",
    "    mvaxis : int | None\n",
    "        Spatial location of the axis to consider if multi-variate analysis\n",
    "        is needed\n",
    "    traxis : int | -1\n",
    "        Spatial location of the trial axis. By default the last axis is\n",
    "        considered\n",
    "    biascorrect : bool | True\n",
    "        Specifies whether bias correction should be applied to the estimated MI\n",
    "    demeaned : bool | False\n",
    "        Specifies whether the input data already has zero mean (true if it has\n",
    "        been copula-normalized)\n",
    "    shape_checking : bool | True\n",
    "        Perform a reshape and check that x and y shapes are consistents. For\n",
    "        high performances and to avoid extensive memory usage, it's better to\n",
    "        already have x and y with a shape of (..., mvaxis, traxis) and to set\n",
    "        this parameter to False\n",
    "    Returns\n",
    "    -------\n",
    "    mi : array_like\n",
    "        The mutual information with the same shape as x, y and z without the\n",
    "        mvaxis and traxis\n",
    "    \"\"\"\n",
    "    # Multi-dimentional shape checking\n",
    "    if shape_checking:\n",
    "        x = nd_reshape_gpu(x, mvaxis=mvaxis, traxis=traxis)\n",
    "        y = nd_reshape_gpu(y, mvaxis=mvaxis, traxis=traxis)\n",
    "        z = nd_reshape_gpu(z, mvaxis=mvaxis, traxis=traxis)\n",
    "        nd_shape_checking(x, y, mvaxis, traxis)\n",
    "        nd_shape_checking(x, z, mvaxis, traxis)\n",
    "\n",
    "    # x.shape == y.shape == z.shape (..., x_mvaxis, traxis)\n",
    "    ntrl = x.shape[-1]\n",
    "    nvarx, nvary, nvarz = x.shape[-2], y.shape[-2], z.shape[-2]\n",
    "    nvarxy = nvarx + nvary\n",
    "    nvaryz = nvary + nvarz\n",
    "    nvarxy = nvarx + nvary\n",
    "    nvarxz = nvarx + nvarz\n",
    "    nvarxyz = nvarx + nvaryz\n",
    "\n",
    "    # joint variable along the mvaxis\n",
    "    xyz = cp.concatenate((x, y, z), axis=-2)\n",
    "    if not demeaned:\n",
    "        xyz -= xyz.mean(axis=-1, keepdims=True)\n",
    "    cxyz = cp.einsum('...ij, ...kj->...ik', xyz, xyz)\n",
    "    cxyz /= float(ntrl - 1.)\n",
    "\n",
    "    # submatrices of joint covariance\n",
    "    cz = cxyz[..., nvarxy:, nvarxy:]\n",
    "    cyz = cxyz[..., nvarx:, nvarx:]\n",
    "    sh = list(cxyz.shape)\n",
    "    sh[-1], sh[-2] = nvarxz, nvarxz\n",
    "    cxz = cp.zeros(tuple(sh), dtype=float)\n",
    "    cxz[..., :nvarx, :nvarx] = cxyz[..., :nvarx, :nvarx]\n",
    "    cxz[..., :nvarx, nvarx:] = cxyz[..., :nvarx, nvarxy:]\n",
    "    cxz[..., nvarx:, :nvarx] = cxyz[..., nvarxy:, :nvarx]\n",
    "    cxz[..., nvarx:, nvarx:] = cxyz[..., nvarxy:, nvarxy:]\n",
    "\n",
    "    # Cholesky decomposition\n",
    "    chcz = cp.linalg.cholesky(cz)\n",
    "    chcxz = cp.linalg.cholesky(cxz)\n",
    "    chcyz = cp.linalg.cholesky(cyz)\n",
    "    chcxyz = cp.linalg.cholesky(cxyz)\n",
    "\n",
    "    # entropies in nats\n",
    "    # normalizations cancel for mutual information\n",
    "    hz = cp.log(cp.einsum('...ii->...i', chcz)).sum(-1)\n",
    "    hxz = cp.log(cp.einsum('...ii->...i', chcxz)).sum(-1)\n",
    "    hyz = cp.log(cp.einsum('...ii->...i', chcyz)).sum(-1)\n",
    "    hxyz = cp.log(cp.einsum('...ii->...i', chcxyz)).sum(-1)\n",
    "\n",
    "    ln2 = cp.log(2)\n",
    "    if biascorrect:\n",
    "        vec = cp.arange(1, nvarxyz + 1)\n",
    "        psiterms = psi((ntrl - vec).astype(cp.float) / 2.0) / 2.0\n",
    "        dterm = (ln2 - cp.log(ntrl - 1.0)) / 2.0\n",
    "        hz = hz - nvarz * dterm - psiterms[:nvarz].sum()\n",
    "        hxz = hxz - nvarxz * dterm - psiterms[:nvarxz].sum()\n",
    "        hyz = hyz - nvaryz * dterm - psiterms[:nvaryz].sum()\n",
    "        hxyz = hxyz - nvarxyz * dterm - psiterms[:nvarxyz].sum()\n",
    "\n",
    "    # MI in bits\n",
    "    i = (hxz + hyz - hxyz - hz) / ln2\n",
    "    cp._default_memory_pool.free_all_blocks()\n",
    "    return i"
   ]
  },
  {
   "cell_type": "code",
   "execution_count": 53,
   "metadata": {},
   "outputs": [],
   "source": [
    "# Generating coupled gaussian variables\n",
    "def return_coupled_normal(Trials = 1, Regions = 3, N = 1000, rho = 0.7):\n",
    "    E = np.random.normal(0, rho, size=(Trials, Regions, N))\n",
    "    return E[:,0,:], E[:,1,:], E[:,2,:]"
   ]
  },
  {
   "cell_type": "code",
   "execution_count": 54,
   "metadata": {},
   "outputs": [],
   "source": [
    "x, y, z = return_coupled_normal(Trials = 1, Regions = 3, N = 1000, rho = 0.7)"
   ]
  },
  {
   "cell_type": "code",
   "execution_count": 55,
   "metadata": {},
   "outputs": [
    {
     "data": {
      "text/plain": [
       "3.1286694488639386e-05"
      ]
     },
     "execution_count": 55,
     "metadata": {},
     "output_type": "execute_result"
    }
   ],
   "source": [
    "cmi_nd_ggg(x, y, z, mvaxis=1, traxis=-1, biascorrect=True,\n",
    "           demeaned=False, shape_checking=False)"
   ]
  },
  {
   "cell_type": "code",
   "execution_count": 56,
   "metadata": {},
   "outputs": [],
   "source": [
    "x_gpu, y_gpu, z_gpu = cp.array(x), cp.array(y), cp.array(z)  "
   ]
  },
  {
   "cell_type": "code",
   "execution_count": 57,
   "metadata": {},
   "outputs": [
    {
     "data": {
      "text/plain": [
       "array(3.12866945e-05)"
      ]
     },
     "execution_count": 57,
     "metadata": {},
     "output_type": "execute_result"
    }
   ],
   "source": [
    "cmi_nd_ggg_gpu(x_gpu, y_gpu, z_gpu, mvaxis=1, traxis=-1, biascorrect=True,\n",
    "           demeaned=False, shape_checking=False)"
   ]
  },
  {
   "cell_type": "code",
   "execution_count": 63,
   "metadata": {},
   "outputs": [],
   "source": [
    "# Computing for different series length\n",
    "N_arr = np.linspace(1000, 100000, 10, dtype = int)\n",
    "exta  = np.zeros([2, len(N_arr)])\n",
    "exts  = np.zeros([2, len(N_arr)])"
   ]
  },
  {
   "cell_type": "code",
   "execution_count": 64,
   "metadata": {},
   "outputs": [
    {
     "name": "stderr",
     "output_type": "stream",
     "text": [
      "\r",
      "  0%|          | 0/10 [00:00<?, ?it/s]"
     ]
    },
    {
     "name": "stdout",
     "output_type": "stream",
     "text": [
      "778 µs ± 32 µs per loop (mean ± std. dev. of 7 runs, 1000 loops each)\n"
     ]
    },
    {
     "name": "stderr",
     "output_type": "stream",
     "text": [
      "\r",
      " 10%|█         | 1/10 [00:06<00:59,  6.62s/it]"
     ]
    },
    {
     "name": "stdout",
     "output_type": "stream",
     "text": [
      "2.4 ms ± 44.2 µs per loop (mean ± std. dev. of 7 runs, 1 loop each)\n",
      "6.35 ms ± 88.6 µs per loop (mean ± std. dev. of 7 runs, 100 loops each)\n"
     ]
    },
    {
     "name": "stderr",
     "output_type": "stream",
     "text": [
      "\r",
      " 20%|██        | 2/10 [00:13<00:54,  6.78s/it]"
     ]
    },
    {
     "name": "stdout",
     "output_type": "stream",
     "text": [
      "2.46 ms ± 70.1 µs per loop (mean ± std. dev. of 7 runs, 100 loops each)\n",
      "11.8 ms ± 2.53 µs per loop (mean ± std. dev. of 7 runs, 100 loops each)\n"
     ]
    },
    {
     "name": "stderr",
     "output_type": "stream",
     "text": [
      "\r",
      " 30%|███       | 3/10 [00:25<00:57,  8.21s/it]"
     ]
    },
    {
     "name": "stdout",
     "output_type": "stream",
     "text": [
      "2.39 ms ± 16.6 µs per loop (mean ± std. dev. of 7 runs, 100 loops each)\n",
      "17.3 ms ± 13.7 µs per loop (mean ± std. dev. of 7 runs, 100 loops each)\n"
     ]
    },
    {
     "name": "stderr",
     "output_type": "stream",
     "text": [
      "\r",
      " 40%|████      | 4/10 [00:41<01:04, 10.71s/it]"
     ]
    },
    {
     "name": "stdout",
     "output_type": "stream",
     "text": [
      "3.06 ms ± 4.43 µs per loop (mean ± std. dev. of 7 runs, 100 loops each)\n",
      "22.9 ms ± 69.4 µs per loop (mean ± std. dev. of 7 runs, 10 loops each)\n"
     ]
    },
    {
     "name": "stderr",
     "output_type": "stream",
     "text": [
      "\r",
      " 50%|█████     | 5/10 [00:46<00:44,  8.88s/it]"
     ]
    },
    {
     "name": "stdout",
     "output_type": "stream",
     "text": [
      "3.3 ms ± 3.26 µs per loop (mean ± std. dev. of 7 runs, 100 loops each)\n",
      "28.6 ms ± 27.5 µs per loop (mean ± std. dev. of 7 runs, 10 loops each)\n"
     ]
    },
    {
     "name": "stderr",
     "output_type": "stream",
     "text": [
      "\r",
      " 60%|██████    | 6/10 [00:51<00:31,  7.81s/it]"
     ]
    },
    {
     "name": "stdout",
     "output_type": "stream",
     "text": [
      "3.57 ms ± 8.05 µs per loop (mean ± std. dev. of 7 runs, 100 loops each)\n",
      "34.7 ms ± 211 µs per loop (mean ± std. dev. of 7 runs, 10 loops each)\n"
     ]
    },
    {
     "name": "stderr",
     "output_type": "stream",
     "text": [
      "\r",
      " 70%|███████   | 7/10 [00:57<00:21,  7.28s/it]"
     ]
    },
    {
     "name": "stdout",
     "output_type": "stream",
     "text": [
      "3.82 ms ± 7.62 µs per loop (mean ± std. dev. of 7 runs, 100 loops each)\n",
      "40.7 ms ± 74.9 µs per loop (mean ± std. dev. of 7 runs, 10 loops each)\n"
     ]
    },
    {
     "name": "stderr",
     "output_type": "stream",
     "text": [
      "\r",
      " 80%|████████  | 8/10 [01:04<00:14,  7.12s/it]"
     ]
    },
    {
     "name": "stdout",
     "output_type": "stream",
     "text": [
      "4.1 ms ± 172 µs per loop (mean ± std. dev. of 7 runs, 100 loops each)\n",
      "47.6 ms ± 63 µs per loop (mean ± std. dev. of 7 runs, 10 loops each)\n"
     ]
    },
    {
     "name": "stderr",
     "output_type": "stream",
     "text": [
      "\r",
      " 90%|█████████ | 9/10 [01:11<00:07,  7.15s/it]"
     ]
    },
    {
     "name": "stdout",
     "output_type": "stream",
     "text": [
      "3.98 ms ± 1.94 µs per loop (mean ± std. dev. of 7 runs, 100 loops each)\n",
      "54.2 ms ± 43.9 µs per loop (mean ± std. dev. of 7 runs, 10 loops each)\n"
     ]
    },
    {
     "name": "stderr",
     "output_type": "stream",
     "text": [
      "100%|██████████| 10/10 [01:19<00:00,  7.98s/it]"
     ]
    },
    {
     "name": "stdout",
     "output_type": "stream",
     "text": [
      "4.24 ms ± 1.7 µs per loop (mean ± std. dev. of 7 runs, 100 loops each)\n"
     ]
    },
    {
     "name": "stderr",
     "output_type": "stream",
     "text": [
      "\n"
     ]
    }
   ],
   "source": [
    "for i in tqdm( range(N_arr.shape[-1]) ):\n",
    "    x, y, z = return_coupled_normal(Trials = 10, Regions = 3, N = N_arr[i], rho = 0.7)\n",
    "    aux = %timeit -o cmi_nd_ggg(x, y, z, mvaxis=1, traxis=-1, \\\n",
    "                                biascorrect=True, demeaned=False, shape_checking=False)\n",
    "    exta[0,i] = aux.average\n",
    "    exts[0,i] = aux.stdev\n",
    "    # GPU \n",
    "    x_gpu, y_gpu, z_gpu = cp.array(x), cp.array(y), cp.array(z) \n",
    "    aux = %timeit -o cmi_nd_ggg_gpu(x_gpu, y_gpu, z_gpu, mvaxis=1, traxis=-1, \\\n",
    "                                    biascorrect=True,demeaned=False, shape_checking=False)   \n",
    "    exta[1,i] = aux.average\n",
    "    exts[1,i] = aux.stdev"
   ]
  },
  {
   "cell_type": "code",
   "execution_count": 66,
   "metadata": {},
   "outputs": [
    {
     "data": {
      "image/png": "[encoded data removed]",
      "text/plain": [
       "<Figure size 504x432 with 2 Axes>"
      ]
     },
     "metadata": {
      "needs_background": "light"
     },
     "output_type": "display_data"
    }
   ],
   "source": [
    "plt.figure(figsize=(7,6))\n",
    "plt.subplot2grid((3,2), (0,0), rowspan = 2, colspan = 2)\n",
    "plt.plot(N_arr, exta[0], 'sb', label = 'CPU')\n",
    "plt.fill_between(N_arr, exta[0]-2*exts[0], exta[0]+2*exts[0], color = 'b', alpha = .2)\n",
    "plt.plot(N_arr, exta[1], 'sr', label = 'GPU')\n",
    "plt.fill_between(N_arr, exta[1]-2*exts[1], exta[1]+2*exts[1], color = 'r', alpha = .2)\n",
    "plt.xticks([])\n",
    "plt.title('FRITES - cmi_nd_ggg')\n",
    "plt.ylabel('Exc. time [s]')\n",
    "plt.legend()\n",
    "plt.subplot2grid((3,2), (2,0), rowspan = 1, colspan = 2)\n",
    "plt.plot(N_arr, exta[0]/exta[1], 'g--', lw = 3)\n",
    "plt.ylabel(r'CPU/GPU')\n",
    "plt.xlabel('Series length')\n",
    "plt.tight_layout()\n",
    "plt.savefig('cmi_nd_ggg.pdf', dpi = 600)"
   ]
  },
  {
   "cell_type": "code",
   "execution_count": null,
   "metadata": {},
   "outputs": [],
   "source": []
  }
 ],
 "metadata": {
  "kernelspec": {
   "display_name": "Python 3",
   "language": "python",
   "name": "python3"
  },
  "language_info": {
   "codemirror_mode": {
    "name": "ipython",
    "version": 3
   },
   "file_extension": ".py",
   "mimetype": "text/x-python",
   "name": "python",
   "nbconvert_exporter": "python",
   "pygments_lexer": "ipython3",
   "version": "3.6.8"
  }
 },
 "nbformat": 4,
 "nbformat_minor": 2
}
